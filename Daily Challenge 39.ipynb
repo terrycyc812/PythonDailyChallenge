{
 "cells": [
  {
   "cell_type": "markdown",
   "metadata": {},
   "source": [
    "# Daily Challenge 39"
   ]
  },
  {
   "cell_type": "markdown",
   "metadata": {},
   "source": [
    "A semiprime is a composite number that is the product of two primes. Apart from these two primes, its only other proper (non-self) divisor is 1.\n",
    "\n",
    "The two prime factors of a semiprime can be the same number (e.g. the semiprime 49 is the product of 7x7). A semiprime that has two distinct prime factors is called a squarefree semiprime.\n",
    "\n",
    "Create a function that takes a number and returns \"Squarefree Semiprime\", \"Semiprime\", or \"Neither\".\n",
    "\n",
    "Examples\n",
    "\n",
    "semiprime(49) ➞ \"Semiprime\"\n",
    "\n",
    "semiprime(15) ➞ \"Squarefree Semiprime\"\n",
    "\n",
    "semiprime(97) ➞ \"Neither\""
   ]
  },
  {
   "cell_type": "code",
   "execution_count": 13,
   "metadata": {},
   "outputs": [],
   "source": [
    "def semiprime(n):\n",
    "    prime_list = [2]\n",
    "    for x in range(3, n+1):  \n",
    "        flag = False\n",
    "        for y in prime_list:  \n",
    "            if x % y == 0:\n",
    "                flag = True\n",
    "                break\n",
    "        if not flag:\n",
    "            prime_list.append(x)\n",
    "            \n",
    "    prime_factors = [x for x in prime_list if n%x == 0]\n",
    "    \n",
    "    if len(prime_factors) == 2:\n",
    "        result = \"Squarefree Semiprime\"\n",
    "    elif (len(prime_factors) == 1) and (prime_factors[0]**2 == n):\n",
    "        result = \"Semiprime\"\n",
    "    else:\n",
    "        result = \"Neither\"\n",
    "        \n",
    "    return result"
   ]
  },
  {
   "cell_type": "code",
   "execution_count": 14,
   "metadata": {},
   "outputs": [
    {
     "name": "stdout",
     "output_type": "stream",
     "text": [
      "Semiprime\n",
      "Squarefree Semiprime\n",
      "Neither\n"
     ]
    }
   ],
   "source": [
    "print(semiprime(49))\n",
    "print(semiprime(15))\n",
    "print(semiprime(97))"
   ]
  }
 ],
 "metadata": {
  "kernelspec": {
   "display_name": "Python 3",
   "language": "python",
   "name": "python3"
  },
  "language_info": {
   "codemirror_mode": {
    "name": "ipython",
    "version": 3
   },
   "file_extension": ".py",
   "mimetype": "text/x-python",
   "name": "python",
   "nbconvert_exporter": "python",
   "pygments_lexer": "ipython3",
   "version": "3.8.3"
  }
 },
 "nbformat": 4,
 "nbformat_minor": 4
}
