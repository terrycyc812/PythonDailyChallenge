{
 "cells": [
  {
   "cell_type": "markdown",
   "metadata": {},
   "source": [
    "# Python Daily Challenge 10"
   ]
  },
  {
   "cell_type": "markdown",
   "metadata": {},
   "source": [
    "Given an integer, create a function that finds and returns the length of the longest binary gap of the binary representation of that integer. A binary gap is the sequence of consecutive zeros in between ones in a binary representation. Reference for binary representation can be found here: https://www.rapidtables.com/convert/number/decimal-to-binary.html\n",
    "\n",
    "\n",
    "\n",
    "Example:\n",
    "\n",
    "Input: 9, which has binary representation 1001\n",
    "\n",
    "Returns: 2\n",
    "\n",
    "Input: 529, which has binary representation 1000010001\n",
    "\n",
    "Returns: 4\n",
    "\n",
    "Input: 20, which has binary representation 10100\n",
    "\n",
    "Returns: 1\n",
    "\n",
    "Input: 15, which has binary representation 1111\n",
    "\n",
    "Returns: 0"
   ]
  },
  {
   "cell_type": "code",
   "execution_count": 13,
   "metadata": {},
   "outputs": [],
   "source": [
    "def func(num):\n",
    "    binary = bin(num)[2:]\n",
    "    list1 = binary.split(\"1\")\n",
    "    return (binary, max([len(x) for x in list1]))"
   ]
  },
  {
   "cell_type": "code",
   "execution_count": 14,
   "metadata": {},
   "outputs": [
    {
     "name": "stdout",
     "output_type": "stream",
     "text": [
      "('1001', 2)\n",
      "('1000010001', 4)\n",
      "('10100', 2)\n",
      "('1111', 0)\n"
     ]
    }
   ],
   "source": [
    "print(func(9))\n",
    "print(func(529))\n",
    "print(func(20))\n",
    "print(func(15))"
   ]
  }
 ],
 "metadata": {
  "kernelspec": {
   "display_name": "Python 3",
   "language": "python",
   "name": "python3"
  },
  "language_info": {
   "codemirror_mode": {
    "name": "ipython",
    "version": 3
   },
   "file_extension": ".py",
   "mimetype": "text/x-python",
   "name": "python",
   "nbconvert_exporter": "python",
   "pygments_lexer": "ipython3",
   "version": "3.8.3"
  }
 },
 "nbformat": 4,
 "nbformat_minor": 4
}
