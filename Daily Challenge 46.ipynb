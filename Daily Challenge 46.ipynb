{
 "cells": [
  {
   "cell_type": "markdown",
   "metadata": {},
   "source": [
    "# Daily Challenge 46"
   ]
  },
  {
   "cell_type": "markdown",
   "metadata": {},
   "source": [
    "Given an array of strings and an original string, write a function to output an array of boolean values - True if the word can be formed from the original word by swapping two letters only once and False otherwise.\n",
    "\n",
    "Examples\n",
    "\n",
    "validate_swaps([\"BACDE\", \"EBCDA\", \"BCDEA\", \"ACBED\"], \"ABCDE\") ➞ [True, True, False, False]\n",
    "\n",
    "**Swap \"A\" and \"B\" from \"ABCDE\" to get \"BACDE\".<br>\n",
    "Swap \"A\" and \"E\" from \"ABCDE\" to get \"EBCDA\".<br>\n",
    "Both \"BCDEA\" and \"ACBED\" cannot be formed from \"ABCDE\" using only a single swap.**\n",
    "\n",
    "validate_swaps([\"32145\", \"12354\", \"15342\", \"12543\"], \"12345\") ➞ [True, True, True, True]\n",
    "\n",
    "validate_swaps([\"9786\", \"9788\", \"97865\", \"7689\"], \"9768\") ➞ [True, False, False, False]"
   ]
  },
  {
   "cell_type": "code",
   "execution_count": 1,
   "metadata": {},
   "outputs": [],
   "source": [
    "def validate_swaps(list1, str1):\n",
    "    result = []\n",
    "    for item in list1:\n",
    "        if len(item) != len(str1):\n",
    "            result.append(False)\n",
    "            continue\n",
    "        else:\n",
    "            diff = 0\n",
    "            for n in range(len(item)):\n",
    "                if item[n] != str1[n]:\n",
    "                    diff += 1\n",
    "            if diff != 2:\n",
    "                result.append(False)\n",
    "            else:\n",
    "                result.append(True)\n",
    "    return result"
   ]
  },
  {
   "cell_type": "code",
   "execution_count": 3,
   "metadata": {},
   "outputs": [
    {
     "name": "stdout",
     "output_type": "stream",
     "text": [
      "[True, True, False, False]\n",
      "[True, True, True, True]\n",
      "[True, False, False, False]\n"
     ]
    }
   ],
   "source": [
    "print(validate_swaps([\"BACDE\", \"EBCDA\", \"BCDEA\", \"ACBED\"], \"ABCDE\"))\n",
    "print(validate_swaps([\"32145\", \"12354\", \"15342\", \"12543\"], \"12345\"))\n",
    "print(validate_swaps([\"9786\", \"9788\", \"97865\", \"7689\"], \"9768\"))"
   ]
  }
 ],
 "metadata": {
  "kernelspec": {
   "display_name": "Python 3",
   "language": "python",
   "name": "python3"
  },
  "language_info": {
   "codemirror_mode": {
    "name": "ipython",
    "version": 3
   },
   "file_extension": ".py",
   "mimetype": "text/x-python",
   "name": "python",
   "nbconvert_exporter": "python",
   "pygments_lexer": "ipython3",
   "version": "3.8.3"
  }
 },
 "nbformat": 4,
 "nbformat_minor": 4
}
