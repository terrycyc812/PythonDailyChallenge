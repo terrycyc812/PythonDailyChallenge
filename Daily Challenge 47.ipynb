{
 "cells": [
  {
   "cell_type": "markdown",
   "metadata": {},
   "source": [
    "# Daily Challenge 47"
   ]
  },
  {
   "cell_type": "markdown",
   "metadata": {},
   "source": [
    "A numbers factor length is simply its total number of factors.\n",
    "\n",
    "For instance:\n",
    "\n",
    "3: 1, 3\n",
    "\n",
    "**3's factor length = 2**\n",
    "\n",
    "8: 1, 2, 4, 8\n",
    "\n",
    "**8's factor length = 4**\n",
    "\n",
    "36 : 1, 2, 3, 4, 6, 9, 12, 18, 36\n",
    "\n",
    "**36's factor length = 9**\n",
    "\n",
    "Create a function that sorts a list by factor length in descending order. If multiple numbers have the same factor length, sort these numbers in descending order, with the largest first.\n",
    "\n",
    "In the example below, since 13 and 7 both have only 2 factors, we put 13 ahead of 7.\n",
    "\n",
    "factor_sort([9, 7, 13, 12]) ➞ [12, 9, 13, 7]\n",
    "\n",
    "**12 : 6, 9: 3, 13: 2, 7: 2**\n",
    "\n",
    "Examples\n",
    "\n",
    "factor_sort([1, 2, 31, 4]) ➞ [4, 31, 2, 1]\n",
    "\n",
    "factor_sort([5, 7, 9]) ➞ [9, 7, 5]\n",
    "\n",
    "factor_sort([15, 8, 2, 3]) ➞ [15, 8, 3, 2]"
   ]
  },
  {
   "cell_type": "code",
   "execution_count": 37,
   "metadata": {},
   "outputs": [],
   "source": [
    "def factor_length(num):\n",
    "    factors = [x for x in range(1, num+1) if num % x == 0]\n",
    "    return len(factors)\n",
    "\n",
    "def factor_sort(list1):\n",
    "    list1.sort(reverse=True)\n",
    "    dict1 = {x:factor_length(x) for x in list1}\n",
    "    list2 = sorted(dict1.items(), reverse=True, key=lambda x:x[1])\n",
    "    result = [x[0] for x in list2]\n",
    "    return result"
   ]
  },
  {
   "cell_type": "code",
   "execution_count": 38,
   "metadata": {},
   "outputs": [
    {
     "name": "stdout",
     "output_type": "stream",
     "text": [
      "[12, 9, 13, 7]\n",
      "[4, 31, 2, 1]\n",
      "[9, 7, 5]\n",
      "[15, 8, 3, 2]\n"
     ]
    }
   ],
   "source": [
    "print(factor_sort([9, 7, 13, 12]))\n",
    "print(factor_sort([1, 2, 31, 4]))\n",
    "print(factor_sort([5, 7, 9]))\n",
    "print(factor_sort([15, 8, 2, 3]))"
   ]
  }
 ],
 "metadata": {
  "kernelspec": {
   "display_name": "Python 3",
   "language": "python",
   "name": "python3"
  },
  "language_info": {
   "codemirror_mode": {
    "name": "ipython",
    "version": 3
   },
   "file_extension": ".py",
   "mimetype": "text/x-python",
   "name": "python",
   "nbconvert_exporter": "python",
   "pygments_lexer": "ipython3",
   "version": "3.8.3"
  }
 },
 "nbformat": 4,
 "nbformat_minor": 4
}
