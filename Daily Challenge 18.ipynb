{
 "cells": [
  {
   "cell_type": "markdown",
   "metadata": {},
   "source": [
    "# Daily Challenge 18"
   ]
  },
  {
   "cell_type": "markdown",
   "metadata": {},
   "source": [
    "Given an integer greater than 0, return a list of all possible palindromes of the integer.\n",
    "\n",
    "\n",
    "\n",
    "Example:\n",
    "\n",
    "Input: \n",
    "\n",
    "34322122\n",
    "\n",
    "Output:\n",
    "\n",
    "[22, 212, 343, 22122]"
   ]
  },
  {
   "cell_type": "code",
   "execution_count": 7,
   "metadata": {},
   "outputs": [
    {
     "name": "stdout",
     "output_type": "stream",
     "text": [
      "[22, 212, 343, 22122]\n"
     ]
    }
   ],
   "source": [
    "n = str(34322122)\n",
    "pa = []\n",
    "\n",
    "for x in range(2, len(n)+1):\n",
    "    for y in range(len(n)-x+1):\n",
    "        check = n[y:y+x]\n",
    "        if check == check[::-1] and int(check) not in pa:\n",
    "            pa.append(int(check))\n",
    "\n",
    "pa.sort()\n",
    "print(pa)"
   ]
  }
 ],
 "metadata": {
  "kernelspec": {
   "display_name": "Python 3",
   "language": "python",
   "name": "python3"
  },
  "language_info": {
   "codemirror_mode": {
    "name": "ipython",
    "version": 3
   },
   "file_extension": ".py",
   "mimetype": "text/x-python",
   "name": "python",
   "nbconvert_exporter": "python",
   "pygments_lexer": "ipython3",
   "version": "3.8.3"
  }
 },
 "nbformat": 4,
 "nbformat_minor": 4
}
