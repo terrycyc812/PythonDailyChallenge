{
 "cells": [
  {
   "cell_type": "markdown",
   "metadata": {},
   "source": [
    "# Daily Challenge 17"
   ]
  },
  {
   "cell_type": "markdown",
   "metadata": {},
   "source": [
    "Given a list of 11 integers, return a string in the form of a Hong Kong phone number in this format: +852 xxxx xxxx\n",
    "\n",
    "Only the numbers 2, 3, 5, 6, 7, and 9 can be added after the extension 852.\n",
    "\n",
    "\n",
    "\n",
    "Example 1:\n",
    "\n",
    "Input:\n",
    "\n",
    "[1, 2, 3, 4, 5, 6, 7, 8, 9, 0, 1]\n",
    "\n",
    "Returns:\n",
    "\n",
    "\"+852 9134 6701\""
   ]
  },
  {
   "cell_type": "code",
   "execution_count": 9,
   "metadata": {},
   "outputs": [
    {
     "data": {
      "text/plain": [
       "'+852 9134 6701'"
      ]
     },
     "execution_count": 9,
     "metadata": {},
     "output_type": "execute_result"
    }
   ],
   "source": [
    "list1 = [1, 2, 3, 4, 5, 6, 7, 8, 9, 0, 1]\n",
    "tel = \"+852 \"\n",
    "for x in range(11):\n",
    "    if str(list1[x]) in tel:\n",
    "        list1[x] = \"A\"\n",
    "\n",
    "for x in range(10, -1, -1):\n",
    "    if list1[x] in [2,3,5,6,7,9]:\n",
    "        tel += str(list1[x])\n",
    "        list1[x] = \"A\"\n",
    "        break\n",
    "\n",
    "for x in range(11):\n",
    "    if list1[x] != 'A':\n",
    "        tel += str(list1[x])\n",
    "        list1[x] = \"A\"\n",
    "    if len(tel) == 9:\n",
    "        tel += \" \"\n",
    "    \n",
    "tel"
   ]
  }
 ],
 "metadata": {
  "kernelspec": {
   "display_name": "Python 3",
   "language": "python",
   "name": "python3"
  },
  "language_info": {
   "codemirror_mode": {
    "name": "ipython",
    "version": 3
   },
   "file_extension": ".py",
   "mimetype": "text/x-python",
   "name": "python",
   "nbconvert_exporter": "python",
   "pygments_lexer": "ipython3",
   "version": "3.8.3"
  }
 },
 "nbformat": 4,
 "nbformat_minor": 4
}
