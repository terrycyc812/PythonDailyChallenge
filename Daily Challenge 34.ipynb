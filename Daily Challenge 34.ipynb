{
 "cells": [
  {
   "cell_type": "markdown",
   "metadata": {},
   "source": [
    "# Daily Challenge 34"
   ]
  },
  {
   "cell_type": "markdown",
   "metadata": {},
   "source": [
    "In this challenge, you have to establish if a positive integer is a Modest number, accordingly to the following algorithm:\n",
    "\n",
    "Divide the number into two left and right partitions. For each combination of left and right parts, you have to check if a condition is true: the remainder of the number divided by the right part is equal to the left part. If at least a combination of two parts satisfies the above condition, the number is Modest, otherwise, it's not. Given an integer num, implement a function that returns True if num is a Modest number, or False if it's not.\n",
    "\n",
    "Example #1\n",
    "\n",
    "is_modest(2036) ➞ True\n",
    "\n",
    "Combination 1: Left = 2 | Right = 036 = 36 (Leading zeros are not considered) Number (2036) % Right (36) = 20 != Left (2)\n",
    "\n",
    "Combination 2: Left = 20 | Right = 36 Number (2036) % Right (36) = 20 = Left (20)\n",
    "\n",
    "**At least a combination satisfies the condition<br>\n",
    "It's a Modest number**<br>\n",
    "\n",
    "Example #2\n",
    "\n",
    "is_modest(3412) ➞ False\n",
    "\n",
    "Combination 1: Left = 3 | Right = 412 3412 % 412 = 116 != Left\n",
    "\n",
    "Combination 2: Left = 34 | Right = 12 3412 % 12 = 4 != Left\n",
    "\n",
    "Combination 3: Left = 341 | Right = 2 3412 % 2 = 0 != Left\n",
    "\n",
    "**It's not a Modest number<br>\n",
    "Notice how left and right parts are made:<br>\n",
    "They are not permutations or combinations...<br>\n",
    "...but partitions of consecutive digits.**<br>\n",
    "\n",
    "Example #3\n",
    "\n",
    "is_modest(21333) ➞ True\n",
    "\n",
    "Combination 1: Left = 2 | Right = 1333 21333 % 1333 = 5 != Left\n",
    "\n",
    "Combination 2: Left = 21 | Right = 333 21333 % 333 = 21 = Left\n",
    "\n",
    "**At least a combination satisfies the condition<br>\n",
    "It's a Modest number**<br>\n",
    "\n",
    "Example #4\n",
    "\n",
    "is_modest(8) ➞ False\n",
    "\n",
    "**An integer with less than two digits can't be partitioned.**"
   ]
  },
  {
   "cell_type": "code",
   "execution_count": 7,
   "metadata": {},
   "outputs": [],
   "source": [
    "def is_modest(num):\n",
    "    num = str(num)\n",
    "    if len(num) <2:\n",
    "        result = False\n",
    "    else:\n",
    "        result = False\n",
    "        for x in range(1, len(num)):\n",
    "            num_l = int(num[:x])\n",
    "            num_r = int(num[x:])\n",
    "            if int(num) % num_r == num_l:\n",
    "                result = True\n",
    "                break\n",
    "    return result"
   ]
  },
  {
   "cell_type": "code",
   "execution_count": 8,
   "metadata": {},
   "outputs": [
    {
     "name": "stdout",
     "output_type": "stream",
     "text": [
      "True\n",
      "False\n",
      "True\n",
      "False\n"
     ]
    }
   ],
   "source": [
    "print(is_modest(2036))\n",
    "print(is_modest(3412))\n",
    "print(is_modest(21333))\n",
    "print(is_modest(8))"
   ]
  }
 ],
 "metadata": {
  "kernelspec": {
   "display_name": "Python 3",
   "language": "python",
   "name": "python3"
  },
  "language_info": {
   "codemirror_mode": {
    "name": "ipython",
    "version": 3
   },
   "file_extension": ".py",
   "mimetype": "text/x-python",
   "name": "python",
   "nbconvert_exporter": "python",
   "pygments_lexer": "ipython3",
   "version": "3.8.3"
  }
 },
 "nbformat": 4,
 "nbformat_minor": 4
}
