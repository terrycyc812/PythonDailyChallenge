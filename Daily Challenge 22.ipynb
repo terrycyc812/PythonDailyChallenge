{
 "cells": [
  {
   "cell_type": "markdown",
   "metadata": {},
   "source": [
    "# Daily Challenge 22"
   ]
  },
  {
   "cell_type": "markdown",
   "metadata": {},
   "source": [
    "Given a string of decimal digits, output an integer of its binary representation like below:\n",
    "\n",
    "\n",
    "\n",
    "Example:\n",
    "\n",
    "Input: \"2973\"\n",
    "\n",
    "\"2\" => 10\n",
    "\n",
    "\"9\" => 1001\n",
    "\n",
    "\"7\" => 111\n",
    "\n",
    "\"3\" => 11\n",
    "\n",
    "Therefore output is 10100111111, because of 10+1001+111+11."
   ]
  },
  {
   "cell_type": "code",
   "execution_count": 4,
   "metadata": {},
   "outputs": [
    {
     "data": {
      "text/plain": [
       "'10100111111'"
      ]
     },
     "execution_count": 4,
     "metadata": {},
     "output_type": "execute_result"
    }
   ],
   "source": [
    "string = \"2973\"\n",
    "new_string = \"\"\n",
    "for x in string:\n",
    "    new_string += bin(int(x))[2:]\n",
    "    \n",
    "new_string"
   ]
  }
 ],
 "metadata": {
  "kernelspec": {
   "display_name": "Python 3",
   "language": "python",
   "name": "python3"
  },
  "language_info": {
   "codemirror_mode": {
    "name": "ipython",
    "version": 3
   },
   "file_extension": ".py",
   "mimetype": "text/x-python",
   "name": "python",
   "nbconvert_exporter": "python",
   "pygments_lexer": "ipython3",
   "version": "3.8.3"
  }
 },
 "nbformat": 4,
 "nbformat_minor": 4
}
