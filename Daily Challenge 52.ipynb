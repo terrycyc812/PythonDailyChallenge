{
 "cells": [
  {
   "cell_type": "markdown",
   "metadata": {},
   "source": [
    "# Daily Challenge 52"
   ]
  },
  {
   "cell_type": "markdown",
   "metadata": {},
   "source": [
    "Las Vegas style dice have 6 sides numbered 1 to 6. When rolling 2 dice, a six is 5 times more likely than a two because a six can be rolled 5 different ways (1 + 5, 5 + 1, 2 + 4, 4 + 2, 3 + 3), while a two can only be rolled 1 way (1 + 1).\n",
    "\n",
    "Create a function that accepts two arguments, the number of dice rolled, and the outcome of the roll. The function returns the number of possible combinations that could produce that outcome. The number of dice can vary from 1 to 6.\n",
    "\n",
    "For the example given above:\n",
    "- dice_roll(2, 6) would return 5\n",
    "- dice_roll(2, 2) would return 1 \n",
    "\n",
    "Examples:\n",
    "\n",
    "dice_roll(1, 3) ➞ 1\n",
    "\n",
    "dice_roll(2, 5) ➞ 4<br>\n",
    "**1 + 4, 4 + 1, 2 + 3, 3 + 2**\n",
    "\n",
    "dice_roll(3, 4) ➞ 3<br>\n",
    "**1 + 1 + 2, 1 + 2 + 1, 2 + 1 + 1**\n",
    "\n",
    "dice_roll(4, 18) ➞ 80\n",
    "\n",
    "dice_roll(6, 20) ➞ 4221"
   ]
  },
  {
   "cell_type": "code",
   "execution_count": 22,
   "metadata": {},
   "outputs": [],
   "source": [
    "from itertools import product\n",
    "\n",
    "def dice_roll(num, outcome):\n",
    "    \n",
    "    # if num=2, matching will be [(1,1), (1,2)...(1,6), (2,1), (2,2)...(6,6)]\n",
    "    matching = list(product([1,2,3,4,5,6], repeat=num))\n",
    "    \n",
    "    # sum up the values in each tuple, ie. [2, 3...7, 3, 4...12]\n",
    "    num_sum = [sum(x) for x in matching]\n",
    "    return num_sum.count(outcome)"
   ]
  },
  {
   "cell_type": "code",
   "execution_count": 23,
   "metadata": {},
   "outputs": [
    {
     "name": "stdout",
     "output_type": "stream",
     "text": [
      "5\n",
      "1\n",
      "1\n",
      "4\n",
      "3\n",
      "80\n",
      "4221\n"
     ]
    }
   ],
   "source": [
    "print(dice_roll(2, 6))\n",
    "print(dice_roll(2, 2))\n",
    "print(dice_roll(1, 3))\n",
    "print(dice_roll(2, 5))\n",
    "print(dice_roll(3, 4))\n",
    "print(dice_roll(4, 18))\n",
    "print(dice_roll(6, 20))"
   ]
  }
 ],
 "metadata": {
  "kernelspec": {
   "display_name": "Python 3",
   "language": "python",
   "name": "python3"
  },
  "language_info": {
   "codemirror_mode": {
    "name": "ipython",
    "version": 3
   },
   "file_extension": ".py",
   "mimetype": "text/x-python",
   "name": "python",
   "nbconvert_exporter": "python",
   "pygments_lexer": "ipython3",
   "version": "3.8.5"
  }
 },
 "nbformat": 4,
 "nbformat_minor": 4
}
