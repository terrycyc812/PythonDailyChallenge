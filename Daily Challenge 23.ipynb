{
 "cells": [
  {
   "cell_type": "markdown",
   "metadata": {},
   "source": [
    "# Daily Challenge 23"
   ]
  },
  {
   "cell_type": "markdown",
   "metadata": {},
   "source": [
    "Given an input integer x, return a list of integers in which the sum is equal to x. The integers inside the list must consist of values that are a power of 3. For example:\n",
    "\n",
    "1 is a possible number of the list because of 3^0 => 1\n",
    "\n",
    "3 is also a possible number of the list because 3^1 => 3\n",
    "\n",
    "and so on.\n",
    "\n",
    "\n",
    "\n",
    "Example:\n",
    "\n",
    "Input: \n",
    "\n",
    "4\n",
    "\n",
    "\n",
    "\n",
    "Output:\n",
    "\n",
    "[1, 3]\n",
    "\n",
    "Because 1 +3 = 4 \n",
    "\n",
    "And 3^0 => 1 and 3^1 => 3\n",
    "\n",
    "\n",
    "\n",
    "Invalid output:\n",
    "\n",
    "[2, 2]\n",
    "\n",
    "Even though 2 + 2 = 4, \n",
    "\n",
    "2 is not a power of 3. \n",
    "\n",
    "Therefore, 2 is an invalid output in the list."
   ]
  },
  {
   "cell_type": "code",
   "execution_count": 34,
   "metadata": {},
   "outputs": [],
   "source": [
    "import itertools\n",
    "def func(n):\n",
    "    power3 = [3**x for x in range(10)]\n",
    "    consider = [x for x in power3 if x < n]\n",
    "    \n",
    "    all_comb = []\n",
    "    for x in range(len(consider)+1):\n",
    "        all_comb.append(list(itertools.combinations(consider, x)))\n",
    "        \n",
    "    done = False\n",
    "    for x in all_comb:\n",
    "        for y in x:\n",
    "            if sum(y) == n:\n",
    "                result = [z for z in y]\n",
    "                done = True\n",
    "    if not done:\n",
    "        result = \"No matching!\"\n",
    "        \n",
    "    return result"
   ]
  },
  {
   "cell_type": "code",
   "execution_count": 35,
   "metadata": {},
   "outputs": [
    {
     "name": "stdout",
     "output_type": "stream",
     "text": [
      "[1, 3]\n",
      "[1, 9]\n",
      "[1, 3, 9]\n",
      "No matching!\n",
      "No matching!\n",
      "[3, 27]\n"
     ]
    }
   ],
   "source": [
    "print(func(4))\n",
    "print(func(10))\n",
    "print(func(13))\n",
    "print(func(15))\n",
    "print(func(25))\n",
    "print(func(30))"
   ]
  }
 ],
 "metadata": {
  "kernelspec": {
   "display_name": "Python 3",
   "language": "python",
   "name": "python3"
  },
  "language_info": {
   "codemirror_mode": {
    "name": "ipython",
    "version": 3
   },
   "file_extension": ".py",
   "mimetype": "text/x-python",
   "name": "python",
   "nbconvert_exporter": "python",
   "pygments_lexer": "ipython3",
   "version": "3.8.3"
  }
 },
 "nbformat": 4,
 "nbformat_minor": 4
}
