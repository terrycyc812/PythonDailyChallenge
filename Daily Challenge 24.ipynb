{
 "cells": [
  {
   "cell_type": "markdown",
   "metadata": {},
   "source": [
    "# Daily Challenge 24"
   ]
  },
  {
   "cell_type": "markdown",
   "metadata": {},
   "source": [
    "Given a number, return the difference between the maximum and minimum numbers that can be formed when the digits are rearranged."
   ]
  },
  {
   "cell_type": "code",
   "execution_count": 11,
   "metadata": {},
   "outputs": [
    {
     "name": "stdout",
     "output_type": "stream",
     "text": [
      "Max: 965210\n",
      "Min: 12569\n",
      "Difference: 952641\n"
     ]
    }
   ],
   "source": [
    "num = 165209\n",
    "\n",
    "num_l = []\n",
    "num_l.extend(str(num))\n",
    "\n",
    "num_l.sort()\n",
    "min_num = \"\"\n",
    "for x in num_l:\n",
    "    min_num += x\n",
    "    \n",
    "num_l.sort(reverse=True)\n",
    "max_num = \"\"\n",
    "for x in num_l:\n",
    "    max_num += x\n",
    "\n",
    "print(f\"Max: {int(max_num)}\")\n",
    "print(f\"Min: {int(min_num)}\")\n",
    "print(\"Difference:\", int(max_num) - int(min_num))"
   ]
  }
 ],
 "metadata": {
  "kernelspec": {
   "display_name": "Python 3",
   "language": "python",
   "name": "python3"
  },
  "language_info": {
   "codemirror_mode": {
    "name": "ipython",
    "version": 3
   },
   "file_extension": ".py",
   "mimetype": "text/x-python",
   "name": "python",
   "nbconvert_exporter": "python",
   "pygments_lexer": "ipython3",
   "version": "3.8.3"
  }
 },
 "nbformat": 4,
 "nbformat_minor": 4
}
