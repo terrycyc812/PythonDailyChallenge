{
 "cells": [
  {
   "cell_type": "markdown",
   "metadata": {},
   "source": [
    "# Daily Challenge 13"
   ]
  },
  {
   "cell_type": "markdown",
   "metadata": {},
   "source": [
    "Given a string, create a function that splits the string into pairs of two characters. Put the pairs inside a list then return the list. If a character is missing in a pair, use the character '?' to replace the missing character.\n",
    "\n",
    "\n",
    "\n",
    "Example:\n",
    "\n",
    "Input: \"abcdefg\"\n",
    "\n",
    "Output = [\"ab\", \"cd\", \"ef\", \"g?\"]\n",
    "\n",
    "\n",
    "\n",
    "Input: \"abcdef\"\n",
    "\n",
    "Output = [\"ab\", \"cd\", \"ef\"]"
   ]
  },
  {
   "cell_type": "code",
   "execution_count": 18,
   "metadata": {},
   "outputs": [],
   "source": [
    "def func(s):\n",
    "    list1 = []\n",
    "    for x in range(0, len(s)-1, 2):\n",
    "        target = s[x:x+2]\n",
    "        list1.append(target)\n",
    "\n",
    "    if len(s) %2 == 1:\n",
    "        target = s[-1]+\"?\"\n",
    "        list1.append(target)\n",
    "    return list1"
   ]
  },
  {
   "cell_type": "code",
   "execution_count": 19,
   "metadata": {},
   "outputs": [
    {
     "name": "stdout",
     "output_type": "stream",
     "text": [
      "['ab', 'cd', 'ef', 'g?']\n",
      "['ab', 'cd', 'ef', 'gh']\n"
     ]
    }
   ],
   "source": [
    "print(func(\"abcdefg\"))\n",
    "print(func(\"abcdefgh\"))"
   ]
  }
 ],
 "metadata": {
  "kernelspec": {
   "display_name": "Python 3",
   "language": "python",
   "name": "python3"
  },
  "language_info": {
   "codemirror_mode": {
    "name": "ipython",
    "version": 3
   },
   "file_extension": ".py",
   "mimetype": "text/x-python",
   "name": "python",
   "nbconvert_exporter": "python",
   "pygments_lexer": "ipython3",
   "version": "3.8.3"
  }
 },
 "nbformat": 4,
 "nbformat_minor": 4
}
