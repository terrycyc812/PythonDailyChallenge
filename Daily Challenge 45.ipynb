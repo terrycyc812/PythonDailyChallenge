{
 "cells": [
  {
   "cell_type": "markdown",
   "metadata": {},
   "source": [
    "# Daily Challenge 45"
   ]
  },
  {
   "cell_type": "markdown",
   "metadata": {},
   "source": [
    "The goal of this challenge is to return Pascal's triangle up to number 29. Pascal's triangle is the sum of the two upper corners.\n",
    "\n",
    "1 1 1 2 1 1 3 3 1\n",
    "\n",
    "There will always be the 1 in the first\n",
    "place and the row in the second.\n",
    "Create a function that returns a row from Pascal's triangle. To find the row and column you can use n!/(k!*(n-k)!) where n is the row down and k is the column.\n",
    "\n",
    "Examples\n",
    "\n",
    "pascals_triangle(1) ➞ \"1 1\"\n",
    "\n",
    "pascals_triangle(4) ➞ \"1 4 6 4 1\"\n",
    "\n",
    "pascals_triangle(6) ➞ \"1 6 15 20 15 6 1\"\n",
    "\n",
    "pascals_triangle(8) ➞ \"1 8 28 56 70 56 28 8 1\""
   ]
  },
  {
   "cell_type": "code",
   "execution_count": 17,
   "metadata": {},
   "outputs": [],
   "source": [
    "def fact(n):\n",
    "    if n <= 1:\n",
    "        return 1\n",
    "    else:\n",
    "        return n*fact(n-1)\n",
    "\n",
    "def nCr(n, k):\n",
    "    return int(fact(n)/(fact(k)*fact(n-k)))\n",
    "\n",
    "def pascals_triangle(n):\n",
    "    return \" \".join([str(nCr(n,k)) for k in range(n+1)])"
   ]
  },
  {
   "cell_type": "code",
   "execution_count": 18,
   "metadata": {},
   "outputs": [
    {
     "name": "stdout",
     "output_type": "stream",
     "text": [
      "1 1\n",
      "1 4 6 4 1\n",
      "1 6 15 20 15 6 1\n",
      "1 8 28 56 70 56 28 8 1\n"
     ]
    }
   ],
   "source": [
    "print(pascals_triangle(1))\n",
    "print(pascals_triangle(4))\n",
    "print(pascals_triangle(6))\n",
    "print(pascals_triangle(8))"
   ]
  }
 ],
 "metadata": {
  "kernelspec": {
   "display_name": "Python 3",
   "language": "python",
   "name": "python3"
  },
  "language_info": {
   "codemirror_mode": {
    "name": "ipython",
    "version": 3
   },
   "file_extension": ".py",
   "mimetype": "text/x-python",
   "name": "python",
   "nbconvert_exporter": "python",
   "pygments_lexer": "ipython3",
   "version": "3.8.3"
  }
 },
 "nbformat": 4,
 "nbformat_minor": 4
}
