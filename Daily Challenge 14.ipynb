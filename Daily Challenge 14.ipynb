{
 "cells": [
  {
   "cell_type": "markdown",
   "metadata": {},
   "source": [
    "# Daily Challenge 14"
   ]
  },
  {
   "cell_type": "markdown",
   "metadata": {},
   "source": [
    "Given a list of integers, split the list into two, put the arrays on top of each other, then add them together. Return the finished list.\n",
    "\n",
    "\n",
    "\n",
    "Example:\n",
    "\n",
    "Input:\n",
    "\n",
    "[1, 2, 3, 4, 5, 6, 7]\n",
    "\n",
    "\n",
    "\n",
    "Putting on top:\n",
    "\n",
    "[1, 2, 3]\n",
    "\n",
    "[4, 5, 6, 7]\n",
    "\n",
    "\n",
    "\n",
    "Adding up process:\n",
    "\n",
    "[1, 2, 3]\n",
    "\n",
    "+\n",
    "\n",
    "[4, 5, 6, 7]\n",
    "\n",
    "------------\n",
    "\n",
    "[5, 7, 9, 7]\n",
    "\n",
    "\n",
    "\n",
    "Returns:\n",
    "\n",
    "[5, 7, 9, 7]"
   ]
  },
  {
   "cell_type": "code",
   "execution_count": 19,
   "metadata": {},
   "outputs": [],
   "source": [
    "def func(l):\n",
    "    l1 = l[:len(l)//2]\n",
    "    l2 = l[len(l)//2:]\n",
    "#    import numpy as np\n",
    "#     a1 = np.array(l1)\n",
    "#     a2 = np.array(l2)\n",
    "#     if len(a1) != len(a2):\n",
    "#         a1 = np.append(a1, [0])\n",
    "#     return a1+a2\n",
    "\n",
    "    if len(l1) != len(l2):\n",
    "        l1.append(0)\n",
    "    return [l1[x]+l2[x] for x in range(len(l1))]"
   ]
  },
  {
   "cell_type": "code",
   "execution_count": 18,
   "metadata": {},
   "outputs": [
    {
     "name": "stdout",
     "output_type": "stream",
     "text": [
      "[5, 7, 9, 7]\n",
      "[6, 8, 10, 12]\n"
     ]
    }
   ],
   "source": [
    "print(func([1,2,3,4,5,6,7]))\n",
    "print(func([1,2,3,4,5,6,7,8]))"
   ]
  }
 ],
 "metadata": {
  "kernelspec": {
   "display_name": "Python 3",
   "language": "python",
   "name": "python3"
  },
  "language_info": {
   "codemirror_mode": {
    "name": "ipython",
    "version": 3
   },
   "file_extension": ".py",
   "mimetype": "text/x-python",
   "name": "python",
   "nbconvert_exporter": "python",
   "pygments_lexer": "ipython3",
   "version": "3.8.3"
  }
 },
 "nbformat": 4,
 "nbformat_minor": 4
}
