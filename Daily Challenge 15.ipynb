{
 "cells": [
  {
   "cell_type": "markdown",
   "metadata": {},
   "source": [
    "# Daily Challenge 15"
   ]
  },
  {
   "cell_type": "markdown",
   "metadata": {},
   "source": [
    "Given two lists of any data type, return a list that combines the two lists by alternating the elements passed. The input lists can be of different lengths.\n",
    "\n",
    "\n",
    "\n",
    "Example 1:\n",
    "\n",
    "Input lists: \n",
    "\n",
    "[1, 2, 3, 4, 5]\n",
    "\n",
    "['a', 'b', 'c', 'd', 'e']\n",
    "\n",
    "Returns:\n",
    "\n",
    "[1, 'a', 2, b', 3, 'c', 4, 'd', 5, 'e']\n",
    "\n",
    "\n",
    "\n",
    "Example 2:\n",
    "\n",
    "Input lists:\n",
    "\n",
    "[1, 2, 3]\n",
    "\n",
    "['a', 'b', 'c', 'd', 'e']\n",
    "\n",
    "Returns:\n",
    "\n",
    "[1, 'a', 2, 'b', 3, 'c', 'd', 'e']\n",
    "\n",
    "\n",
    "\n",
    "Example 3:\n",
    "\n",
    "Input lists:\n",
    "\n",
    "[1, 2, 3, 4, 5]\n",
    "\n",
    "['a', 'b']\n",
    "\n",
    "Returns:\n",
    "\n",
    "[1, 'a', 2, 'b', 3, 4, 5]"
   ]
  },
  {
   "cell_type": "code",
   "execution_count": 7,
   "metadata": {},
   "outputs": [],
   "source": [
    "def func(list1, list2):\n",
    "    list_comb = []\n",
    "\n",
    "    if len(list1) < len(list2):\n",
    "        length = len(list1)\n",
    "        for x in range(length):\n",
    "            list_comb.append(list1[x])\n",
    "            list_comb.append(list2[x])\n",
    "        for y in range(length, len(list2)):\n",
    "            list_comb.append(list2[y])\n",
    "    elif len(list1) > len(list2):\n",
    "        length = len(list2)\n",
    "        for x in range(length):\n",
    "            list_comb.append(list1[x])\n",
    "            list_comb.append(list2[x])\n",
    "        for y in range(length, len(list1)):\n",
    "            list_comb.append(list1[y])\n",
    "    else:\n",
    "        for x in range(len(list1)):\n",
    "            list_comb.append(list1[x])\n",
    "            list_comb.append(list2[x]) \n",
    "        \n",
    "    return list_comb"
   ]
  },
  {
   "cell_type": "code",
   "execution_count": 8,
   "metadata": {},
   "outputs": [
    {
     "data": {
      "text/plain": [
       "[1, 'a', 2, 'b', 3, 'c', 4, 'd', 5, 'e']"
      ]
     },
     "execution_count": 8,
     "metadata": {},
     "output_type": "execute_result"
    }
   ],
   "source": [
    "l1 = [1, 2, 3, 4, 5]\n",
    "l2 = ['a', 'b', 'c', 'd', 'e']\n",
    "func(l1, l2)"
   ]
  },
  {
   "cell_type": "code",
   "execution_count": 9,
   "metadata": {},
   "outputs": [
    {
     "data": {
      "text/plain": [
       "[1, 'a', 2, 'b', 3, 'c', 'd', 'e']"
      ]
     },
     "execution_count": 9,
     "metadata": {},
     "output_type": "execute_result"
    }
   ],
   "source": [
    "l1 = [1, 2, 3]\n",
    "l2 = ['a', 'b', 'c', 'd', 'e']\n",
    "func(l1, l2)"
   ]
  },
  {
   "cell_type": "code",
   "execution_count": 10,
   "metadata": {},
   "outputs": [
    {
     "data": {
      "text/plain": [
       "[1, 'a', 2, 'b', 3, 4, 5]"
      ]
     },
     "execution_count": 10,
     "metadata": {},
     "output_type": "execute_result"
    }
   ],
   "source": [
    "l1 = [1, 2, 3, 4, 5]\n",
    "l2 = ['a', 'b']\n",
    "func(l1, l2)"
   ]
  }
 ],
 "metadata": {
  "kernelspec": {
   "display_name": "Python 3",
   "language": "python",
   "name": "python3"
  },
  "language_info": {
   "codemirror_mode": {
    "name": "ipython",
    "version": 3
   },
   "file_extension": ".py",
   "mimetype": "text/x-python",
   "name": "python",
   "nbconvert_exporter": "python",
   "pygments_lexer": "ipython3",
   "version": "3.8.3"
  }
 },
 "nbformat": 4,
 "nbformat_minor": 4
}
