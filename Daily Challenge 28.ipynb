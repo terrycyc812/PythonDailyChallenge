{
 "cells": [
  {
   "cell_type": "markdown",
   "metadata": {},
   "source": [
    "# Daily Challenge 28"
   ]
  },
  {
   "cell_type": "markdown",
   "metadata": {},
   "source": [
    "A string is an almost-palindrome if, by changing only one character, you can make it a palindrome. Create a function that returns True if a string is an almost-palindrome and False otherwise.\n",
    "\n",
    "Examples\n",
    "\n",
    "almost_palindrome(\"abcdcbg\") ➞ True\n",
    "\n",
    "#Transformed to \"abcdcba\" by changing \"g\" to \"a\".\n",
    "\n",
    "almost_palindrome(\"abccia\") ➞ True\n",
    "\n",
    "#Transformed to \"abccba\" by changing \"b\" to \"a\".\n",
    "\n",
    "almost_palindrome(\"abcdaaa\") ➞ False\n",
    "\n",
    "#Can't be transformed to a palindrome in exactly 1 turn.\n",
    "\n",
    "almost_palindrome(\"1234312\") ➞ False"
   ]
  },
  {
   "cell_type": "code",
   "execution_count": 1,
   "metadata": {},
   "outputs": [],
   "source": [
    "def almost_palindrome(s1):\n",
    "    count = 0\n",
    "    for x in range(len(s1)//2):\n",
    "        if s1[x] != s1[-(x+1)]:\n",
    "            count += 1\n",
    "            \n",
    "    if count <= 1:\n",
    "        result = True\n",
    "    else:\n",
    "        result = False\n",
    "        \n",
    "    return result"
   ]
  },
  {
   "cell_type": "code",
   "execution_count": 3,
   "metadata": {},
   "outputs": [
    {
     "name": "stdout",
     "output_type": "stream",
     "text": [
      "True\n",
      "True\n",
      "False\n",
      "False\n"
     ]
    }
   ],
   "source": [
    "print(almost_palindrome(\"abcdcbg\"))\n",
    "print(almost_palindrome(\"abccia\"))\n",
    "print(almost_palindrome(\"abcdaaa\"))\n",
    "print(almost_palindrome(\"1234312\"))"
   ]
  }
 ],
 "metadata": {
  "kernelspec": {
   "display_name": "Python 3",
   "language": "python",
   "name": "python3"
  },
  "language_info": {
   "codemirror_mode": {
    "name": "ipython",
    "version": 3
   },
   "file_extension": ".py",
   "mimetype": "text/x-python",
   "name": "python",
   "nbconvert_exporter": "python",
   "pygments_lexer": "ipython3",
   "version": "3.8.3"
  }
 },
 "nbformat": 4,
 "nbformat_minor": 4
}
