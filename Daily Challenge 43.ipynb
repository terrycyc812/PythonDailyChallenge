{
 "cells": [
  {
   "cell_type": "markdown",
   "metadata": {},
   "source": [
    "# Daily Challenge 43"
   ]
  },
  {
   "cell_type": "markdown",
   "metadata": {},
   "source": [
    "A prison can be represented as a list of cells. Each cell contains exactly one prisoner. A 1 represents an unlocked cell and a 0 represents a locked cell.\n",
    "\n",
    "[1, 1, 0, 0, 0, 1, 0] Starting from the leftmost cell, you are tasked with seeing how many prisoners you can set free, with a catch. Each time you free a prisoner, the locked cells become unlocked, and the unlocked cells become locked again.\n",
    "\n",
    "So, if we use the example above:\n",
    "\n",
    "[1, 1, 0, 0, 0, 1, 0] \n",
    "\n",
    "You free the prisoner in the 1st cell.<br>\n",
    "[0, 0, 1, 1, 1, 0, 1] \n",
    "\n",
    "You free the prisoner in the 3rd cell (2nd one locked).<br>\n",
    "[1, 1, 0, 0, 0, 1, 0]\n",
    "\n",
    "You free the prisoner in the 6th cell (3rd, 4th and 5th locked).<br>\n",
    "[0, 0, 1, 1, 1, 0, 1]\n",
    "\n",
    "You free the prisoner in the 7th cell - and you are done!\n",
    "\n",
    "Here, we have freed 4 prisoners in total.\n",
    "\n",
    "Create a function that, given this unique prison arrangement, returns the number of freed prisoners.\n",
    "\n",
    "Examples\n",
    "\n",
    "freed_prisoners([1, 1, 0, 0, 0, 1, 0]) ➞ 4\n",
    "\n",
    "freed_prisoners([1, 1, 1]) ➞ 1\n",
    "\n",
    "freed_prisoners([0, 0, 0]) ➞ 0\n",
    "\n",
    "freed_prisoners([0, 1, 1, 1]) ➞ 0"
   ]
  },
  {
   "cell_type": "code",
   "execution_count": 1,
   "metadata": {},
   "outputs": [],
   "source": [
    "def freed_prisoners(cells):\n",
    "    if cells[0] == 0:\n",
    "        return 0\n",
    "    else:\n",
    "        count = 1\n",
    "        for x in range(1, len(cells)):\n",
    "            if cells[x] != cells[x-1]:\n",
    "                count += 1\n",
    "        return count    "
   ]
  },
  {
   "cell_type": "code",
   "execution_count": 2,
   "metadata": {},
   "outputs": [
    {
     "name": "stdout",
     "output_type": "stream",
     "text": [
      "4\n",
      "1\n",
      "0\n",
      "0\n"
     ]
    }
   ],
   "source": [
    "print(freed_prisoners([1, 1, 0, 0, 0, 1, 0]))\n",
    "print(freed_prisoners([1, 1, 1]))\n",
    "print(freed_prisoners([0, 0, 0]))\n",
    "print(freed_prisoners([0, 1, 1, 1]))"
   ]
  }
 ],
 "metadata": {
  "kernelspec": {
   "display_name": "Python 3",
   "language": "python",
   "name": "python3"
  },
  "language_info": {
   "codemirror_mode": {
    "name": "ipython",
    "version": 3
   },
   "file_extension": ".py",
   "mimetype": "text/x-python",
   "name": "python",
   "nbconvert_exporter": "python",
   "pygments_lexer": "ipython3",
   "version": "3.8.3"
  }
 },
 "nbformat": 4,
 "nbformat_minor": 4
}
