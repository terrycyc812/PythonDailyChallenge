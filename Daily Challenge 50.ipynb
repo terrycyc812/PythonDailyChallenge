{
 "cells": [
  {
   "cell_type": "markdown",
   "metadata": {},
   "source": [
    "# Daily Challenge 50"
   ]
  },
  {
   "cell_type": "markdown",
   "metadata": {},
   "source": [
    "A number is Economical if the quantity of digits of its prime factorization (including exponents greater than 1) is equal to or lower than the digit quantity of the number itself.\n",
    "\n",
    "Given an integer n, implement a function that returns a string:\n",
    "\n",
    "\"Equidigital\" if the quantity of digits of the prime factorization (including exponents greater than 1) is equal to the quantity of digits of n; \"Frugal\" if the quantity of digits of the prime factorization (including exponents greater than 1) is lower than the quantity of digits of n; \"Wasteful\" if none of the two above conditions is true. Examples\n",
    "\n",
    "is_economical(14) ➞ \"Equidigital\"\n",
    "\n",
    "**The prime factorization of 14 (2 digits) is [2, 7] (2 digits)<br>\n",
    "Exponents equal to 1 are not counted**\n",
    "\n",
    "is_economical(125) ➞ \"Frugal\"\n",
    "\n",
    "**The prime factorization of 125 (3 digits) is [5^3] (2 digits)<br>\n",
    "Notice how exponents greater than 1 are counted**\n",
    "\n",
    "is_economical(1024) ➞ \"Frugal\"\n",
    "\n",
    "**The prime factorization of 1024 (4 digits) is [2^10] (3 digits)**\n",
    "\n",
    "is_economical(30) ➞ \"Wasteful\"\n",
    "\n",
    "**The prime factorization of 30 (2 digits) is [2, 3, 5] (3 digits)**"
   ]
  },
  {
   "cell_type": "code",
   "execution_count": 1,
   "metadata": {},
   "outputs": [
    {
     "data": {
      "text/plain": [
       "[2, 3, 5, 7, 11, 13, 17, 19, 23, 29]"
      ]
     },
     "execution_count": 1,
     "metadata": {},
     "output_type": "execute_result"
    }
   ],
   "source": [
    "# Generate a list of prime numbers smaller than num \n",
    "def create_prime(num):\n",
    "    prime_list = [2]\n",
    "    for x in range(3, num+1):  \n",
    "        flag = False\n",
    "        for y in prime_list:  \n",
    "            if x % y == 0:\n",
    "                flag = True\n",
    "                break\n",
    "        if not flag:\n",
    "            prime_list.append(x)\n",
    "    return prime_list\n",
    "\n",
    "create_prime(30)"
   ]
  },
  {
   "cell_type": "code",
   "execution_count": 45,
   "metadata": {},
   "outputs": [
    {
     "data": {
      "text/plain": [
       "[2, 3, 5, 5, 5]"
      ]
     },
     "execution_count": 45,
     "metadata": {},
     "output_type": "execute_result"
    }
   ],
   "source": [
    "# Gnereate prime factors of the number\n",
    "def prime_factors(num, pf=[]):\n",
    "    if num == 1:\n",
    "        return pf\n",
    "    else:\n",
    "        prime = create_prime(num)\n",
    "        for x in prime:\n",
    "            if num % x == 0:\n",
    "                pf.append(x)\n",
    "                num = int(num // x)\n",
    "                break\n",
    "        return prime_factors(num, pf)\n",
    "\n",
    "prime_factors(750)"
   ]
  },
  {
   "cell_type": "code",
   "execution_count": 46,
   "metadata": {},
   "outputs": [
    {
     "data": {
      "text/plain": [
       "4"
      ]
     },
     "execution_count": 46,
     "metadata": {},
     "output_type": "execute_result"
    }
   ],
   "source": [
    "# calculate the quantity of digits of the prime factorization\n",
    "from collections import Counter\n",
    "def cal_qd_pf(num):\n",
    "    dcounter = Counter(prime_factors(num, []))\n",
    "    result = ''\n",
    "    for x,y in dcounter.items():\n",
    "        if y>1:\n",
    "            result += str(x) + '^' + str(y) + ', '\n",
    "        else:\n",
    "            result += str(x) + ', '\n",
    "    return sum([1 for x in result if x.isdigit()])\n",
    "\n",
    "cal_qd_pf(750) #[2, 3, 5^3]"
   ]
  },
  {
   "cell_type": "code",
   "execution_count": 42,
   "metadata": {},
   "outputs": [],
   "source": [
    "def is_economical(num):\n",
    "    qd_n = len(str(num)) # Quantity of digit of the number itself\n",
    "    qd_pf = cal_qd_pf(num) # Quantity of difit of its prime factorization\n",
    "    if qd_n == qd_pf:\n",
    "        return 'Equidigital'\n",
    "    elif qd_n > qd_pf:\n",
    "        return 'Frugal'\n",
    "    else:\n",
    "        return 'Wasteful'"
   ]
  },
  {
   "cell_type": "code",
   "execution_count": 47,
   "metadata": {},
   "outputs": [
    {
     "name": "stdout",
     "output_type": "stream",
     "text": [
      "Equidigital\n",
      "Frugal\n",
      "Frugal\n",
      "Wasteful\n"
     ]
    }
   ],
   "source": [
    "print(is_economical(14))\n",
    "print(is_economical(125))\n",
    "print(is_economical(1024))\n",
    "print(is_economical(30))"
   ]
  }
 ],
 "metadata": {
  "kernelspec": {
   "display_name": "Python 3",
   "language": "python",
   "name": "python3"
  },
  "language_info": {
   "codemirror_mode": {
    "name": "ipython",
    "version": 3
   },
   "file_extension": ".py",
   "mimetype": "text/x-python",
   "name": "python",
   "nbconvert_exporter": "python",
   "pygments_lexer": "ipython3",
   "version": "3.8.5"
  }
 },
 "nbformat": 4,
 "nbformat_minor": 4
}
