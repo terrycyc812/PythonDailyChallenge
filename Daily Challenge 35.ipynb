{
 "cells": [
  {
   "cell_type": "markdown",
   "metadata": {},
   "source": [
    "# Daily Challenge 35"
   ]
  },
  {
   "cell_type": "markdown",
   "metadata": {},
   "source": [
    "The factorial of a positive number n is the product of all numbers from 1 to n.\n",
    "\n",
    "5! = 5 x 4 x 3 x 2 x 1 = 120 \n",
    "\n",
    "The semifactorial (also known as the double factorial) of a positive number n is the product of all numbers from 1 to n that have the same parity (i.e. odd or even) as n.\n",
    "\n",
    "12!! = 12 x 10 x 8 x 6 x 4 x 2 = 46,080\n",
    "\n",
    "7!! = 7 x 5 x 3 x 1 = 105 \n",
    "\n",
    "The alternating factorial of a positive number n is the sum of the consecutive factorials from n to 1, where every other factorial is multiplied by -1.\n",
    "\n",
    "Alternating factorial of 1:\n",
    "\n",
    "af(1) = 1! \n",
    "\n",
    "Alternating factorial of 2:\n",
    "\n",
    "af(2) = 2! + (-1)x(1!) = 2! - 1! = 2 -1 = 1 \n",
    "\n",
    "Alternating factorial of 3:\n",
    "\n",
    "af(3) = 3! - 2! + 1! = 6 - 2 + 1 = 5 \n",
    "\n",
    "Create a function that takes a number n and returns the difference between the alternating factorial and semifactorial of n.\n",
    "\n",
    "Examples\n",
    "\n",
    "alt_semi(1) ➞ 0\n",
    "\n",
    "alt_semi(2) ➞ -1\n",
    "\n",
    "alt_semi(3)➞ 2"
   ]
  },
  {
   "cell_type": "code",
   "execution_count": 1,
   "metadata": {},
   "outputs": [],
   "source": [
    "def fact(n):\n",
    "    result = 1\n",
    "    for x in range(1, n+1):\n",
    "        result *= x\n",
    "    return result\n",
    "\n",
    "def semi(n):\n",
    "    if n % 2 == 0:\n",
    "        lst = list(range(2, n+1, 2))\n",
    "    else:\n",
    "        lst = list(range(1, n+1, 2))\n",
    "    \n",
    "    result = 1\n",
    "    for x in lst:\n",
    "        result *= x        \n",
    "    return result\n",
    "\n",
    "def af(n):\n",
    "    result = 0\n",
    "    count = 1\n",
    "    for x in range(n, 0, -1):\n",
    "        if count % 2 != 0:\n",
    "            result += fact(x)\n",
    "        else:\n",
    "            result -= fact(x)\n",
    "        count += 1\n",
    "    return result\n",
    "\n",
    "def alt_semi(n):\n",
    "    return af(n) - semi(n)"
   ]
  },
  {
   "cell_type": "code",
   "execution_count": 23,
   "metadata": {},
   "outputs": [
    {
     "name": "stdout",
     "output_type": "stream",
     "text": [
      "0\n",
      "-1\n",
      "2\n"
     ]
    }
   ],
   "source": [
    "print(alt_semi(1))\n",
    "print(alt_semi(2))\n",
    "print(alt_semi(3))"
   ]
  }
 ],
 "metadata": {
  "kernelspec": {
   "display_name": "Python 3",
   "language": "python",
   "name": "python3"
  },
  "language_info": {
   "codemirror_mode": {
    "name": "ipython",
    "version": 3
   },
   "file_extension": ".py",
   "mimetype": "text/x-python",
   "name": "python",
   "nbconvert_exporter": "python",
   "pygments_lexer": "ipython3",
   "version": "3.8.3"
  }
 },
 "nbformat": 4,
 "nbformat_minor": 4
}
