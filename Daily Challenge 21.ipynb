{
 "cells": [
  {
   "cell_type": "markdown",
   "metadata": {},
   "source": [
    "# Daily Challenge 21"
   ]
  },
  {
   "cell_type": "markdown",
   "metadata": {},
   "source": [
    "Given a list of mixed integers of different representations, add up the non-string integers and subtract this from the total of string integers.\n",
    "\n",
    "\n",
    "\n",
    "Example:\n",
    "\n",
    "Input:\n",
    "\n",
    "[1, '2', 3, '4', 5]\n",
    "\n",
    "Output:\n",
    "\n",
    "-3, because:\n",
    "\n",
    "total of non-string integers = 1+3+5 = 9\n",
    "\n",
    "total of string integers = 2+4 = 6\n",
    "\n",
    "total of string integers - total of non-string integers = -3"
   ]
  },
  {
   "cell_type": "code",
   "execution_count": 1,
   "metadata": {},
   "outputs": [
    {
     "name": "stdout",
     "output_type": "stream",
     "text": [
      "-3\n"
     ]
    }
   ],
   "source": [
    "list1 = [1, '2', 3, '4', 5]\n",
    "str_sum = 0\n",
    "int_sum = 0\n",
    "for x in list1:\n",
    "    if isinstance(x, str):\n",
    "        str_sum += int(x)\n",
    "    else:\n",
    "        int_sum += x\n",
    "print(str_sum - int_sum)"
   ]
  }
 ],
 "metadata": {
  "kernelspec": {
   "display_name": "Python 3",
   "language": "python",
   "name": "python3"
  },
  "language_info": {
   "codemirror_mode": {
    "name": "ipython",
    "version": 3
   },
   "file_extension": ".py",
   "mimetype": "text/x-python",
   "name": "python",
   "nbconvert_exporter": "python",
   "pygments_lexer": "ipython3",
   "version": "3.8.3"
  }
 },
 "nbformat": 4,
 "nbformat_minor": 4
}
