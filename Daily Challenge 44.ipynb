{
 "cells": [
  {
   "cell_type": "markdown",
   "metadata": {},
   "source": [
    "# Daily Challenge 44"
   ]
  },
  {
   "cell_type": "markdown",
   "metadata": {},
   "source": [
    "In numbers theory, a positive composite integer is a Smith number if its digital root is equal to the digital root of the sum of its prime factors, with factors being counted by multiplicity. Trivially, every prime is also a Smith number, having just one prime factor that is equal to itself. If two Smith numbers are consecutive in the integer series, then they are Smith brothers. Any other number will not be a Smith.\n",
    "\n",
    "Given a positive integer number, implement a function that returns:\n",
    "\n",
    "\"Youngest Smith\" if the given number is the lower element of a couple of Smith brothers. <br>\n",
    "\"Oldest Smith\" if the given number is the higher element of a couple of Smith brothers. <br>\n",
    "\"Single Smith\" if the given number is a Smith number without another Smith number adjacent, lower or higher. <br>\n",
    "\"Trivial Smith\" if the given number is a prime. <br>\n",
    "\"Not a Smith\" if the given number is not a Smith number. Examples\n",
    "\n",
    "smith_type(22) ➞ \"Single Smith\"\n",
    "\n",
    "**Digital root of 22 = 2 + 2 = 4<br>\n",
    "Sum of prime factors of 22 = 2 + 11 = 13<br>\n",
    "Digital root of 13 = 1 + 3 = 4<br>\n",
    "Is a Smith number without a brother**\n",
    "\n",
    "smith_type(7) ➞ \"Trivial Smith\"\n",
    "\n",
    "**The given number is a prime**\n",
    "\n",
    "smith_type(728) ➞ \"Youngest Smith\"\n",
    "\n",
    "**Digital root of 728 = 7 + 2 + 8 = 17 = 1 + 7 = 8<br>\n",
    "Sum of prime factors of 728 = 2 + 2 + 2 + 7 + 13 = 26<br>\n",
    "Digital root of 26 = 2 + 6 = 8<br>\n",
    "The number 729 is a Smith number, so 728 is the youngest brother**\n",
    "\n",
    "smith_type(6) ➞ \"Not a Smith\"\n",
    "\n",
    "**Digital root of 6 = 6<br>\n",
    "Sum of prime factors of 6 = 2 + 3 = 5<br>\n",
    "Digital root of 5 = 5**"
   ]
  },
  {
   "cell_type": "code",
   "execution_count": 17,
   "metadata": {},
   "outputs": [],
   "source": [
    "def digital_root(num):\n",
    "    num_s = str(num)\n",
    "    while len(num_s) >1:\n",
    "        num_sum = sum(int(x) for x in num_s)\n",
    "        num_s = str(num_sum)\n",
    "    return int(num_s)\n",
    "\n",
    "def create_prime(num):\n",
    "    prime_list = [2]\n",
    "    for x in range(3, num+1):  \n",
    "        flag = False\n",
    "        for y in prime_list:  \n",
    "            if x % y == 0:\n",
    "                flag = True\n",
    "                break\n",
    "        if not flag:\n",
    "            prime_list.append(x)\n",
    "    return prime_list\n",
    "\n",
    "def check_prime(num):\n",
    "    return num in create_prime(num)\n",
    "\n",
    "def sum_prime_factor(num):\n",
    "    prime_list = create_prime(num)\n",
    "    pfactors = []\n",
    "    temp = num\n",
    "    while temp != 1:\n",
    "        for i in prime_list:\n",
    "            if temp % i == 0:\n",
    "                pfactors.append(i)\n",
    "                temp /= i\n",
    "                break\n",
    "    return sum(pfactors)\n",
    "\n",
    "def smith(num):\n",
    "    return digital_root(num) == digital_root(sum_prime_factor(num))\n",
    "\n",
    "def smith_type(num):\n",
    "    if check_prime(num):\n",
    "        return \"Trivial Smith\"\n",
    "    elif not smith(num):\n",
    "        return \"Not a Smith\"\n",
    "    elif smith(num-1) & smith(num+1):\n",
    "        return \"Middle Smith\"\n",
    "    elif smith(num-1) & ~smith(num+1):\n",
    "        return \"Oldest Smith\"\n",
    "    elif smith(num+1) & ~smith(num-1):\n",
    "        return \"Youngest Smith\"\n",
    "    else:\n",
    "        return \"Single Smith\""
   ]
  },
  {
   "cell_type": "code",
   "execution_count": 18,
   "metadata": {},
   "outputs": [
    {
     "name": "stdout",
     "output_type": "stream",
     "text": [
      "Youngest Smith\n",
      "Trivial Smith\n",
      "Trivial Smith\n",
      "Middle Smith\n",
      "Oldest Smith\n",
      "Not a Smith\n"
     ]
    }
   ],
   "source": [
    "print(smith_type(22))\n",
    "print(smith_type(7))\n",
    "print(smith_type(727))\n",
    "print(smith_type(728))\n",
    "print(smith_type(729))\n",
    "print(smith_type(6))"
   ]
  }
 ],
 "metadata": {
  "kernelspec": {
   "display_name": "Python 3",
   "language": "python",
   "name": "python3"
  },
  "language_info": {
   "codemirror_mode": {
    "name": "ipython",
    "version": 3
   },
   "file_extension": ".py",
   "mimetype": "text/x-python",
   "name": "python",
   "nbconvert_exporter": "python",
   "pygments_lexer": "ipython3",
   "version": "3.8.3"
  }
 },
 "nbformat": 4,
 "nbformat_minor": 4
}
