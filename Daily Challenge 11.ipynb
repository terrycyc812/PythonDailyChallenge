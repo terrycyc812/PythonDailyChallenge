{
 "cells": [
  {
   "cell_type": "markdown",
   "metadata": {},
   "source": [
    "# Python Daily Challenge 11"
   ]
  },
  {
   "cell_type": "markdown",
   "metadata": {},
   "source": [
    "Given a string, return the character with the most value. The value of a character is the difference between the index of its first occurrence and the index of its last occurrence. If there is a tie, return the character that goes first alphabetically.\n",
    "\n",
    "\n",
    "\n",
    "Example:\n",
    "\n",
    "Input: 'abcdbcd'\n",
    "\n",
    "Output: 'b', since difference between first index and last index = 4 - 1 = 3, which ties with the values of c and d but since b goes first alphabetically, that's the most valuable character."
   ]
  },
  {
   "cell_type": "code",
   "execution_count": 19,
   "metadata": {},
   "outputs": [],
   "source": [
    "def func(string):\n",
    "    list1 = []\n",
    "    list1.extend(string)\n",
    "    unique = set(list1)\n",
    "\n",
    "    dict1 = {}\n",
    "    for x in unique:\n",
    "        dict1[x] = string.rindex(x) - string.index(x)\n",
    "\n",
    "    most_char = []\n",
    "    for x,y in dict1.items():\n",
    "        if y == max(dict1.values()):\n",
    "            most_char.append(x)\n",
    "\n",
    "    most_char.sort()\n",
    "    return most_char[0]"
   ]
  },
  {
   "cell_type": "code",
   "execution_count": 20,
   "metadata": {},
   "outputs": [
    {
     "name": "stdout",
     "output_type": "stream",
     "text": [
      "b\n",
      "c\n"
     ]
    }
   ],
   "source": [
    "print(func(\"abcdbcd\"))\n",
    "print(func(\"abcdbcdc\"))"
   ]
  }
 ],
 "metadata": {
  "kernelspec": {
   "display_name": "Python 3",
   "language": "python",
   "name": "python3"
  },
  "language_info": {
   "codemirror_mode": {
    "name": "ipython",
    "version": 3
   },
   "file_extension": ".py",
   "mimetype": "text/x-python",
   "name": "python",
   "nbconvert_exporter": "python",
   "pygments_lexer": "ipython3",
   "version": "3.8.3"
  }
 },
 "nbformat": 4,
 "nbformat_minor": 4
}
