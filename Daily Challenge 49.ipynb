{
 "cells": [
  {
   "cell_type": "markdown",
   "metadata": {},
   "source": [
    "A billboard is an m x n list, where each list element consists of either one letter or a blank space. You are given a phrase and the billboard dimensions. Create a function that determines whether you can place the complete phrase on the billboard.\n",
    "\n",
    "There are two rules:\n",
    "\n",
    "If there is a space between two words: If they are on the same row, you must put a space. If they are two different rows, the space is optional. You can only put COMPLETE words on a row. \n",
    "\n",
    "To illustrate, **can_put(\"GOOD MORN\", [2, 4])** should yield True, since while there is a space between \"GOOD\" and \"MORN\", it's not needed since both words are on separate rows.\n",
    "\n",
    "[ [\"G\", \"O\", \"O\", \"D\"], <br>\n",
    "[\"M\", \"O\", \"R\", \"N\"] ] \n",
    "\n",
    "On the other hand **can_put(\"GOOD MORN\", [1, 8])** should yield False. Since both words reside in the first row, we require nine spots, and eight would yield the incomplete phrase \"GOOD MOR\".\n",
    "\n",
    "[ [\"G\", \"O\", \"O\", \"D\", \"_\", \"M\", \"O\", \"R\"] ] \n",
    "\n",
    "We would also return False if we could not fit a word on a row. So **can_put(\"GOOD MORN\", [3,3])** should yield False, since we can only fit \"GOO\" on the first row.\n",
    "\n",
    "[ [\"G\", \"O\", \"O\"], <br>\n",
    "[\"D\", \"_\", \"M\"], <br>\n",
    "[\"O\", \"R\", \"N\"] ]\n",
    "\n",
    "**No good!**\n",
    "\n",
    "Examples\n",
    "\n",
    "can_put(\"HEY JUDE\", [2, 4]) ➞ True\n",
    "\n",
    "can_put(\"HEY JUDE\", [1, 8]) ➞ True\n",
    "\n",
    "can_put(\"HEY JUDE\", [1, 7]) ➞ False\n",
    "\n",
    "can_put(\"HEY JUDE\", [4, 3]) ➞ False"
   ]
  },
  {
   "cell_type": "code",
   "execution_count": 5,
   "metadata": {},
   "outputs": [],
   "source": [
    "def can_put(str1, list1):\n",
    "    if list1[0] == 1 and len(str1) > list1[1]:\n",
    "        return False\n",
    "    else:\n",
    "        words = str1.split()\n",
    "        result = True\n",
    "        for word in words:\n",
    "            if len(word) > list1[1]:\n",
    "                result = False\n",
    "                break\n",
    "        return result"
   ]
  },
  {
   "cell_type": "code",
   "execution_count": 6,
   "metadata": {},
   "outputs": [
    {
     "name": "stdout",
     "output_type": "stream",
     "text": [
      "True\n",
      "True\n",
      "False\n",
      "False\n"
     ]
    }
   ],
   "source": [
    "print(can_put(\"HEY JUDE\", [2, 4]))\n",
    "print(can_put(\"HEY JUDE\", [1, 8]))\n",
    "print(can_put(\"HEY JUDE\", [1, 7]))\n",
    "print(can_put(\"HEY JUDE\", [4, 3]))"
   ]
  }
 ],
 "metadata": {
  "kernelspec": {
   "display_name": "Python 3",
   "language": "python",
   "name": "python3"
  },
  "language_info": {
   "codemirror_mode": {
    "name": "ipython",
    "version": 3
   },
   "file_extension": ".py",
   "mimetype": "text/x-python",
   "name": "python",
   "nbconvert_exporter": "python",
   "pygments_lexer": "ipython3",
   "version": "3.8.3"
  }
 },
 "nbformat": 4,
 "nbformat_minor": 4
}
