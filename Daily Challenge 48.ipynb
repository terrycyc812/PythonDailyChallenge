{
 "cells": [
  {
   "cell_type": "markdown",
   "metadata": {},
   "source": [
    "Suppose any nxm matrix of 0s and 1s can be transformed into a second matrix, where each number in position (i, j) in the new matrix is the sum of 1s in row i and column j in the original matrix, excluding itself (if it is a 1).\n",
    "\n",
    "[[1, 0, 0, 0, 1],<br>\n",
    " [0, 1, 0, 0, 0], <br>\n",
    " [0, 0, 0, 1, 0], <br>\n",
    " [0, 1, 0, 1, 0], <br>\n",
    " [0, 1, 0, 0, 0]]\n",
    "\n",
    "[1, 5, 2, 4, 1], <br>\n",
    "[2, 2, 1, 3, 2], <br>\n",
    "[2, 4, 1, 1, 2], <br>\n",
    "[3, 3, 2, 2, 3], <br>\n",
    "[2, 2, 1, 3, 2]\n",
    "\n",
    "**The 1 on the upper left corner has 1 other 1 in the same row as itself (excluding itself).\n",
    "The 0 to the right of the 1 has 2 1's on the same row as itself, and 3 1's in the same column, etc.**\n",
    "\n",
    "Create a function that transforms the first matrix into its second matrix equivalent.\n",
    "\n",
    "Examples\n",
    "\n",
    "transform_matrix([ [1, 0, 0], [0, 1, 0], [0, 0, 1] ]) ➞ [ [0, 2, 2], [2, 0, 2], [2, 2, 0] ]\n",
    "\n",
    "transform_matrix([ [1, 1, 1], [0, 0, 1], [0, 0, 1] ]) ➞ [ [2, 2, 4], [2, 2, 2], [2, 2, 2] ]\n",
    "\n",
    "transform_matrix([ [1, 1, 1], [0, 1, 1], [0, 0, 1] ]) ➞ [ [2, 3, 4], [3, 2, 3], [2, 3, 2] ]"
   ]
  },
  {
   "cell_type": "code",
   "execution_count": 5,
   "metadata": {},
   "outputs": [],
   "source": [
    "def transform_matrix(mat1):\n",
    "    result_list = []\n",
    "    for y in range(len(mat1)):\n",
    "        result_sublist = []\n",
    "        for x in range(len(mat1[y])):\n",
    "            total_row = sum([mat1[y][j] for j in range(len(mat1[y]))])\n",
    "            total_column = sum([mat1[i][x] for i in range(len(mat1))])\n",
    "            total = total_row + total_column - 2*mat1[y][x]\n",
    "            result_sublist.append(total)\n",
    "        result_list.append(result_sublist)\n",
    "    return result_list"
   ]
  },
  {
   "cell_type": "code",
   "execution_count": 7,
   "metadata": {},
   "outputs": [
    {
     "name": "stdout",
     "output_type": "stream",
     "text": [
      "[[1, 5, 2, 4, 1], [2, 2, 1, 3, 2], [2, 4, 1, 1, 2], [3, 3, 2, 2, 3], [2, 2, 1, 3, 2]]\n",
      "[[0, 2, 2], [2, 0, 2], [2, 2, 0]]\n",
      "[[2, 2, 4], [2, 2, 2], [2, 2, 2]]\n",
      "[[2, 3, 4], [3, 2, 3], [2, 3, 2]]\n"
     ]
    }
   ],
   "source": [
    "print(transform_matrix([[1, 0, 0, 0, 1], [0, 1, 0, 0, 0], [0, 0, 0, 1, 0], [0, 1, 0, 1, 0], [0, 1, 0, 0, 0]]))\n",
    "print(transform_matrix([ [1, 0, 0], [0, 1, 0], [0, 0, 1] ]))\n",
    "print(transform_matrix([ [1, 1, 1], [0, 0, 1], [0, 0, 1] ]))\n",
    "print(transform_matrix([ [1, 1, 1], [0, 1, 1], [0, 0, 1] ]))"
   ]
  }
 ],
 "metadata": {
  "kernelspec": {
   "display_name": "Python 3",
   "language": "python",
   "name": "python3"
  },
  "language_info": {
   "codemirror_mode": {
    "name": "ipython",
    "version": 3
   },
   "file_extension": ".py",
   "mimetype": "text/x-python",
   "name": "python",
   "nbconvert_exporter": "python",
   "pygments_lexer": "ipython3",
   "version": "3.8.3"
  }
 },
 "nbformat": 4,
 "nbformat_minor": 4
}
