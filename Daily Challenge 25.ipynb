{
 "cells": [
  {
   "cell_type": "markdown",
   "metadata": {},
   "source": [
    "# Daily Challenge 25"
   ]
  },
  {
   "cell_type": "markdown",
   "metadata": {},
   "source": [
    "An anagram is a word, x, formed by rearranging the letters that make up another word, y, and using up all the letters in y at the same frequency. For example, \"dear\" is an anagram of \"read\" and \"plead\" is an anagram of \"paled\".\n",
    "\n",
    "The Hamming distance between two strings is the number of positions at which they differ. Hamming distances can only be calculated for strings of equal length.\n",
    "\n",
    "s1 = \"eleven\"\n",
    "\n",
    "s2 = \"twelve\"\n",
    "\n",
    "They only have the third position (index 2) in common, giving them a Hamming distance of 5.\n",
    "\n",
    "As anagrams are of identical length, the Hamming distance between them can be calculated.\n",
    "\n",
    "s1 = \"read\"\n",
    "\n",
    "s2 = \"dear\"\n",
    "\n",
    "These strings differ at the first and last positions, giving them a Hamming distance of 2. \"Plead\" and \"paled\" have a Hamming distance of 3.\n",
    "\n",
    "Create a function that takes two strings, and returns:\n",
    "\n",
    "True if they are anagrams of each other and their Hamming distance is equal to their length (i.e. no letters in the same positions).\n",
    "\n",
    "False if they aren't anagrams, or Their Hamming distance if they are anagrams with >=1 letter at the same index. Examples\n",
    "\n",
    "max_ham(\"dear\", \"read\") ➞ 2\n",
    "\n",
    "max_ham(\"dare\", \"read\") ➞ True\n",
    "\n",
    "max_ham(\"solemn\", \"molest\") ➞ False"
   ]
  },
  {
   "cell_type": "code",
   "execution_count": 3,
   "metadata": {},
   "outputs": [],
   "source": [
    "def max_ham(s1, s2):\n",
    "    l1 = []\n",
    "    l2 = []\n",
    "    l1.extend(s1)\n",
    "    l2.extend(s2)\n",
    "    l1.sort()\n",
    "    l2.sort()\n",
    "    if l1 != l2:\n",
    "        result = False\n",
    "    else:\n",
    "        count = 0\n",
    "        for x in range(len(s1)):\n",
    "            if s1[x] != s2[x]:\n",
    "                count += 1\n",
    "        \n",
    "        if count == len(s1):\n",
    "            result = True\n",
    "        else:\n",
    "            result = count\n",
    "    \n",
    "    return result"
   ]
  },
  {
   "cell_type": "code",
   "execution_count": 4,
   "metadata": {},
   "outputs": [
    {
     "name": "stdout",
     "output_type": "stream",
     "text": [
      "2\n",
      "True\n",
      "False\n"
     ]
    }
   ],
   "source": [
    "print(max_ham(\"dear\", \"read\"))\n",
    "print(max_ham(\"dare\", \"read\"))\n",
    "print(max_ham(\"solemn\", \"molest\"))"
   ]
  }
 ],
 "metadata": {
  "kernelspec": {
   "display_name": "Python 3",
   "language": "python",
   "name": "python3"
  },
  "language_info": {
   "codemirror_mode": {
    "name": "ipython",
    "version": 3
   },
   "file_extension": ".py",
   "mimetype": "text/x-python",
   "name": "python",
   "nbconvert_exporter": "python",
   "pygments_lexer": "ipython3",
   "version": "3.8.3"
  }
 },
 "nbformat": 4,
 "nbformat_minor": 4
}
