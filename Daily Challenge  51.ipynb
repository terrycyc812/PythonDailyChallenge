{
 "cells": [
  {
   "cell_type": "markdown",
   "metadata": {},
   "source": [
    "# Daily Challenge 51"
   ]
  },
  {
   "cell_type": "markdown",
   "metadata": {},
   "source": [
    "Create a function that determines the minimum number of characters needed to make a strong password.\n",
    "\n",
    "A password is considered strong if it satisfies the following criteria:\n",
    "\n",
    "Its length is at least 6. It contains at least one digit. It contains at least one lowercase English character. It contains at least one uppercase English character. It contains at least one special character: !@#$%^&*()-+ \n",
    "\n",
    "Types of characters in a form you can paste into your solution:<br>\n",
    "numbers = \"0123456789\" <br>\n",
    "lower_case = \"abcdefghijklmnopqrstuvwxyz\" <br>\n",
    "upper_case = \"ABCDEFGHIJKLMNOPQRSTUVWXYZ\" <br>\n",
    "special_characters = \"!@#$%^&*()-+\" \n",
    "\n",
    "Examples\n",
    "\n",
    "strong_password(“Ed1”) ➞ 3\n",
    "\n",
    "strong_password(“#Edabit”) ➞ 1\n",
    "\n",
    "strong_password(\"W1llth!spass?\") ➞ 0"
   ]
  },
  {
   "cell_type": "code",
   "execution_count": 6,
   "metadata": {},
   "outputs": [],
   "source": [
    "numbers = \"0123456789\"\n",
    "lower_case = \"abcdefghijklmnopqrstuvwxyz\"\n",
    "upper_case = \"ABCDEFGHIJKLMNOPQRSTUVWXYZ\"\n",
    "special_characters = \"!@#$%^&*()-+\"\n",
    "\n",
    "def strong_password(pw):\n",
    "    \n",
    "    c_num, c_lc, c_uc, c_sc = 0, 0, 0, 0\n",
    "    for x in pw:\n",
    "        if x in numbers:\n",
    "            c_num += 1\n",
    "        elif x in lower_case:\n",
    "            c_lc += 1\n",
    "        elif x in upper_case:\n",
    "            c_uc += 1\n",
    "        elif x in special_characters:\n",
    "            c_sc += 1\n",
    "            \n",
    "    missing = [c_num, c_lc, c_uc, c_sc].count(0)\n",
    "    if len(pw) >= 6:\n",
    "        return missing\n",
    "    else:\n",
    "        return 6 - len(pw)"
   ]
  },
  {
   "cell_type": "code",
   "execution_count": 11,
   "metadata": {},
   "outputs": [
    {
     "name": "stdout",
     "output_type": "stream",
     "text": [
      "3\n",
      "1\n",
      "0\n"
     ]
    }
   ],
   "source": [
    "print(strong_password('Ed1'))\n",
    "print(strong_password('#Edabit'))\n",
    "print(strong_password(\"W1llth!spass?\"))"
   ]
  }
 ],
 "metadata": {
  "kernelspec": {
   "display_name": "Python 3",
   "language": "python",
   "name": "python3"
  },
  "language_info": {
   "codemirror_mode": {
    "name": "ipython",
    "version": 3
   },
   "file_extension": ".py",
   "mimetype": "text/x-python",
   "name": "python",
   "nbconvert_exporter": "python",
   "pygments_lexer": "ipython3",
   "version": "3.8.5"
  }
 },
 "nbformat": 4,
 "nbformat_minor": 4
}
