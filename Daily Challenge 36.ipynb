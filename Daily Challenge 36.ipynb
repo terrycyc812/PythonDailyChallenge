{
 "cells": [
  {
   "cell_type": "markdown",
   "metadata": {},
   "source": [
    "# Daily Challenge 36"
   ]
  },
  {
   "cell_type": "markdown",
   "metadata": {},
   "source": [
    "Write a function that returns the closest palindrome number to an integer. If two palindrome numbers tie in absolute distance, return the smaller number.\n",
    "\n",
    "Examples\n",
    "\n",
    "closest_palindrome(887) ➞ 888\n",
    "\n",
    "closest_palindrome(100) ➞ 99\n",
    "\n",
    "99 and 101 are equally distant, so we return the smaller palindrome.\n",
    "closest_palindrome(888) ➞ 888\n",
    "\n",
    "closest_palindrome(27) ➞ 22"
   ]
  },
  {
   "cell_type": "code",
   "execution_count": 6,
   "metadata": {},
   "outputs": [],
   "source": [
    "def palindrome(num):\n",
    "    return str(num) == str(num)[::-1]\n",
    "\n",
    "def closest_palindrome(num):\n",
    "    if palindrome(num):\n",
    "        result = num\n",
    "    else:\n",
    "        increment = 1\n",
    "        while True:\n",
    "            num_b = num - increment\n",
    "            num_a = num + increment\n",
    "            if palindrome(num_b):\n",
    "                result = num_b\n",
    "                break\n",
    "            elif palindrome(num_a):\n",
    "                result = num_a\n",
    "                break\n",
    "            else:\n",
    "                increment += 1\n",
    "    return result"
   ]
  },
  {
   "cell_type": "code",
   "execution_count": 7,
   "metadata": {},
   "outputs": [
    {
     "name": "stdout",
     "output_type": "stream",
     "text": [
      "888\n",
      "99\n",
      "22\n"
     ]
    }
   ],
   "source": [
    "print(closest_palindrome(887))\n",
    "print(closest_palindrome(100))\n",
    "print(closest_palindrome(27))"
   ]
  }
 ],
 "metadata": {
  "kernelspec": {
   "display_name": "Python 3",
   "language": "python",
   "name": "python3"
  },
  "language_info": {
   "codemirror_mode": {
    "name": "ipython",
    "version": 3
   },
   "file_extension": ".py",
   "mimetype": "text/x-python",
   "name": "python",
   "nbconvert_exporter": "python",
   "pygments_lexer": "ipython3",
   "version": "3.8.3"
  }
 },
 "nbformat": 4,
 "nbformat_minor": 4
}
