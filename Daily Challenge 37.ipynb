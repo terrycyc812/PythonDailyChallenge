{
 "cells": [
  {
   "cell_type": "markdown",
   "metadata": {},
   "source": [
    "# Daily Challenge 37"
   ]
  },
  {
   "cell_type": "markdown",
   "metadata": {},
   "source": [
    "Standard competition ranking (also known as \"1224\" ranking) assigns the same rank to matching values. Rank numbers are increased each time, so ranks are sometimes skipped. If we have 5 scores (the highest score having a rank of 1):\n",
    "\n",
    "No matching values:<br>\n",
    "Scores = [99, 98, 97, 96, 95] Rank = 1, 2, 3, 4, 5 \n",
    "\n",
    "With matching values:<br>\n",
    "Scores = [99, 98, 98, 96, 95] Rank = 1, 2, 2, 4, 5\n",
    "\n",
    "Second and third scores are equal, so rank \"3\" is skipped.\n",
    "\n",
    "Given a dictionary containing the names and scores of 5 competitors, and a competitor name, return the rank of that competitor after applying competition ranking.\n",
    "\n",
    "Examples\n",
    "\n",
    "competition_rank({ \"George\": 96, \"Emily\": 95, \"Susan\": 93, \"Jane\": 89, \"Brett\": 82 }, \"Jane\") ➞ 4\n",
    "\n",
    "competition_rank({ \"Kate\": 92, \"Carol\": 92, \"Jess\": 87, \"Bruce\": 87, \"Scott\": 84 }, \"Bruce\") ➞ 3"
   ]
  },
  {
   "cell_type": "code",
   "execution_count": 13,
   "metadata": {},
   "outputs": [],
   "source": [
    "def competition_rank(dict1, name):\n",
    "    people = list(dict1.keys())\n",
    "    score = list(dict1.values())\n",
    "    rank = {people[0]:1}\n",
    "\n",
    "    for x in range(1, len(people)):\n",
    "        if score[x] == score[x-1]:\n",
    "            rank[people[x]] = rank[people[x-1]]\n",
    "        else:\n",
    "            rank[people[x]] = x+1\n",
    "        \n",
    "    return rank[name]"
   ]
  },
  {
   "cell_type": "code",
   "execution_count": 14,
   "metadata": {},
   "outputs": [
    {
     "name": "stdout",
     "output_type": "stream",
     "text": [
      "4\n",
      "3\n"
     ]
    }
   ],
   "source": [
    "print(competition_rank({ \"George\": 96, \"Emily\": 95, \"Susan\": 93, \"Jane\": 89, \"Brett\": 82 }, \"Jane\"))\n",
    "print(competition_rank({ \"Kate\": 92, \"Carol\": 92, \"Jess\": 87, \"Bruce\": 87, \"Scott\": 84 }, \"Bruce\"))"
   ]
  }
 ],
 "metadata": {
  "kernelspec": {
   "display_name": "Python 3",
   "language": "python",
   "name": "python3"
  },
  "language_info": {
   "codemirror_mode": {
    "name": "ipython",
    "version": 3
   },
   "file_extension": ".py",
   "mimetype": "text/x-python",
   "name": "python",
   "nbconvert_exporter": "python",
   "pygments_lexer": "ipython3",
   "version": "3.8.3"
  }
 },
 "nbformat": 4,
 "nbformat_minor": 4
}
