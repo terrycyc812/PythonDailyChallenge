{
 "cells": [
  {
   "cell_type": "markdown",
   "metadata": {},
   "source": [
    "# Daily Challenge 37"
   ]
  },
  {
   "cell_type": "markdown",
   "metadata": {},
   "source": [
    "Standard competition ranking (also known as \"1224\" ranking) assigns the same rank to matching values. Rank numbers are increased each time, so ranks are sometimes skipped. If we have 5 scores (the highest score having a rank of 1):\n",
    "\n",
    "No matching values:\n",
    "\n",
    "Scores = [99, 98, 97, 96, 95] Rank = 1, 2, 3, 4, 5 With matching values:\n",
    "\n",
    "Scores = [99, 98, 98, 96, 95] Rank = 1, 2, 2, 4, 5\n",
    "\n",
    "Second and third scores are equal, so rank \"3\" is skipped.\n",
    "Given a dictionary containing the names and scores of 5 competitors, and a competitor name, return the rank of that competitor after applying competition ranking.\n",
    "\n",
    "Examples\n",
    "\n",
    "competition_rank({ \"George\": 96, \"Emily\": 95, \"Susan\": 93, \"Jane\": 89, \"Brett\": 82 }, \"Jane\") ➞ 4\n",
    "\n",
    "competition_rank({ \"Kate\": 92, \"Carol\": 92, \"Jess\": 87, \"Bruce\": 87, \"Scott\": 84 }, \"Bruce\") ➞ 3"
   ]
  },
  {
   "cell_type": "code",
   "execution_count": null,
   "metadata": {},
   "outputs": [],
   "source": []
  },
  {
   "cell_type": "code",
   "execution_count": null,
   "metadata": {},
   "outputs": [],
   "source": []
  },
  {
   "cell_type": "code",
   "execution_count": null,
   "metadata": {},
   "outputs": [],
   "source": []
  }
 ],
 "metadata": {
  "kernelspec": {
   "display_name": "Python 3",
   "language": "python",
   "name": "python3"
  },
  "language_info": {
   "codemirror_mode": {
    "name": "ipython",
    "version": 3
   },
   "file_extension": ".py",
   "mimetype": "text/x-python",
   "name": "python",
   "nbconvert_exporter": "python",
   "pygments_lexer": "ipython3",
   "version": "3.8.3"
  }
 },
 "nbformat": 4,
 "nbformat_minor": 4
}
