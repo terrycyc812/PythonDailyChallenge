{
 "metadata": {
  "language_info": {
   "codemirror_mode": {
    "name": "ipython",
    "version": 3
   },
   "file_extension": ".py",
   "mimetype": "text/x-python",
   "name": "python",
   "nbconvert_exporter": "python",
   "pygments_lexer": "ipython3",
   "version": "3.8.3-final"
  },
  "orig_nbformat": 2,
  "kernelspec": {
   "name": "Python 3.8.3 64-bit ('base': conda)",
   "display_name": "Python 3.8.3 64-bit ('base': conda)",
   "metadata": {
    "interpreter": {
     "hash": "cbc48aad8329b4c8a3563b9b983a1699e397aa1faba6ff718f445e287b877056"
    }
   }
  }
 },
 "nbformat": 4,
 "nbformat_minor": 2,
 "cells": [
  {
   "source": [
    "# Daily Challenge 32"
   ],
   "cell_type": "markdown",
   "metadata": {}
  },
  {
   "source": [
    "Given any number, we can create a new number by adding the sums of squares of digits of that number. For example, given 203, our new number is 4 + 0 + 9 = 13. If we repeat this process, we get a sequence of numbers:\n",
    "\n",
    "203 -> 13 -> 10 -> 1 -> 1 Sometimes, like with 203, the sequence reaches (and stays at) 1. Numbers like this are called happy.\n",
    "\n",
    "Not all numbers are happy. If we started with 11, the sequence would be:\n",
    "\n",
    "11 -> 2 -> 4 -> 16 -> ... This sequence will never reach 1, and so the number 11 is called unhappy.\n",
    "\n",
    "Given a positive whole number, you have to determine whether that number is happy or unhappy.\n",
    "\n",
    "Examples\n",
    "\n",
    "happy(203) ➞ True\n",
    "\n",
    "happy(11) ➞ False\n",
    "\n",
    "happy(107) ➞ False"
   ],
   "cell_type": "markdown",
   "metadata": {}
  },
  {
   "cell_type": "code",
   "execution_count": 8,
   "metadata": {},
   "outputs": [],
   "source": [
    "def happy(num):\n",
    "    count = 0\n",
    "    while count <= 20 and num != 1:\n",
    "        num_s = str(num)\n",
    "        num_list = []\n",
    "        num_list.extend(num_s)\n",
    "        num = sum(int(x)**2 for x in num_list)\n",
    "        count += 1\n",
    "    if num == 1:\n",
    "        return True\n",
    "    else:\n",
    "        return False"
   ]
  },
  {
   "cell_type": "code",
   "execution_count": 9,
   "metadata": {},
   "outputs": [
    {
     "output_type": "stream",
     "name": "stdout",
     "text": [
      "True\nFalse\nFalse\n"
     ]
    }
   ],
   "source": [
    "print(happy(203))\n",
    "print(happy(11))\n",
    "print(happy(107))"
   ]
  }
 ]
}