{
 "cells": [
  {
   "cell_type": "markdown",
   "metadata": {},
   "source": [
    "## Daily Python Challenge 2"
   ]
  },
  {
   "cell_type": "markdown",
   "metadata": {},
   "source": [
    "Create a function that estimates the weight loss of a person using a certain weight loss program with their gender, current weight and how many weeks they plan to do the program as input. If the person follows the weight loss program, men can lose 1.5% of their body weight per week while women can lose 1.2% of their body weight per week. \n",
    "\n",
    "\n",
    "\n",
    "The possible inputs are:\n",
    "\n",
    "Gender: 'M' for Male, 'F' for Female\n",
    "\n",
    "Current weight: integer above 0\n",
    "\n",
    "Number of weeks: integer above 0\n",
    "\n",
    "\n",
    "\n",
    "Return the estimated weight after the specified number of weeks.\n",
    "\n",
    "\n",
    "\n",
    "def lose_weight(gender, weight, duration):\n",
    "\n",
    "    return weight"
   ]
  },
  {
   "cell_type": "code",
   "execution_count": 2,
   "metadata": {},
   "outputs": [],
   "source": [
    "def lose_weight(gender, weight, duration):\n",
    "    if gender == 'M':\n",
    "        new_weight = weight * (1-0.015) ** duration\n",
    "    else:\n",
    "        new_weight = weight * (1-0.012) ** duration\n",
    "    \n",
    "    return new_weight"
   ]
  },
  {
   "cell_type": "code",
   "execution_count": 3,
   "metadata": {},
   "outputs": [
    {
     "name": "stdout",
     "output_type": "stream",
     "text": [
      "69.76\n",
      "54.6\n"
     ]
    }
   ],
   "source": [
    "print(round(lose_weight('M', 73, 3), 2))\n",
    "print(round(lose_weight('F', 58, 5), 2))"
   ]
  }
 ],
 "metadata": {
  "kernelspec": {
   "display_name": "Python 3",
   "language": "python",
   "name": "python3"
  },
  "language_info": {
   "codemirror_mode": {
    "name": "ipython",
    "version": 3
   },
   "file_extension": ".py",
   "mimetype": "text/x-python",
   "name": "python",
   "nbconvert_exporter": "python",
   "pygments_lexer": "ipython3",
   "version": "3.8.3"
  }
 },
 "nbformat": 4,
 "nbformat_minor": 4
}
