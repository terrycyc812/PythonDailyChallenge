{
 "cells": [
  {
   "cell_type": "markdown",
   "metadata": {},
   "source": [
    "# Daily Challenge 42"
   ]
  },
  {
   "cell_type": "markdown",
   "metadata": {},
   "source": [
    "Write a function that replaces each integer with the next largest in the list.\n",
    "\n",
    "Examples\n",
    "\n",
    "replace_next_largest([5, 7, 3, 2, 8]) ➞ [7, 8, 5, 3, -1]\n",
    "\n",
    "replace_next_largest([2, 3, 4, 5]) ➞ [3, 4, 5, -1]\n",
    "\n",
    "replace_next_largest([1, 0, -1, 8, -72]) ➞ [8, 1, 0, -1, -1]"
   ]
  },
  {
   "cell_type": "code",
   "execution_count": 12,
   "metadata": {},
   "outputs": [],
   "source": [
    "def replace_next_largest(list1):\n",
    "    order_list = sorted(list1)\n",
    "    rank_list = [order_list.index(i) for i in list1]\n",
    "    result = []\n",
    "    for i in rank_list:\n",
    "        if i != max(rank_list):\n",
    "            result.append(order_list[i+1])\n",
    "        else:\n",
    "            result.append(-1)\n",
    "    return result"
   ]
  },
  {
   "cell_type": "code",
   "execution_count": 13,
   "metadata": {},
   "outputs": [
    {
     "output_type": "stream",
     "name": "stdout",
     "text": [
      "[7, 8, 5, 3, -1]\n[3, 4, 5, -1]\n[8, 1, 0, -1, -1]\n"
     ]
    }
   ],
   "source": [
    "print(replace_next_largest([5, 7, 3, 2, 8]))\n",
    "print(replace_next_largest([2, 3, 4, 5]))\n",
    "print(replace_next_largest([1, 0, -1, 8, -72]))"
   ]
  }
 ],
 "metadata": {
  "kernelspec": {
   "display_name": "Python 3",
   "language": "python",
   "name": "python3"
  },
  "language_info": {
   "codemirror_mode": {
    "name": "ipython",
    "version": 3
   },
   "file_extension": ".py",
   "mimetype": "text/x-python",
   "name": "python",
   "nbconvert_exporter": "python",
   "pygments_lexer": "ipython3",
   "version": "3.8.3-final"
  }
 },
 "nbformat": 4,
 "nbformat_minor": 4
}