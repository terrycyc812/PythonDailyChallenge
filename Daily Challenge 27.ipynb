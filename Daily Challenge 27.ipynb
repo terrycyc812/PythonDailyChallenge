{
 "cells": [
  {
   "cell_type": "markdown",
   "metadata": {},
   "source": [
    "# Daily Challenge 27"
   ]
  },
  {
   "cell_type": "markdown",
   "metadata": {},
   "source": [
    "Mona has created a method to sort a list in ascending order.\n",
    "\n",
    "Starting from the left of the list, she compares numbers by pairs. If the first pair is ordered [smaller number, larger number], she moves on. If the first pair is ordered [larger number, smaller number], she swaps the two integers before moving on to the next pair. She repeats this process until she reaches the end of the list.\n",
    "\n",
    "Then, she moves back to the beginning of the list and repeats this process until the entire list is sorted.\n",
    "\n",
    "If the unsorted list is: [3, 9, 7, 4], she will perform the following steps (note Swaps here refers to cumulative swaps):\n",
    "\n",
    "She starts with the first pair. [3, 9] is in order, move on. List: [3, 9, 7, 4]. Swaps: 0. <br>\n",
    "[9, 7] is not. Swap. List: [3, 7, 9, 4]. Swaps: 1 <br>\n",
    "[9, 4] is not. Swap. List: [3, 7, 4, 9]. Swaps: 2 <br>\n",
    "Check if list is sorted. It is not, so start over at first pair. <br>\n",
    "[3, 7] is in order, move on. List: [3, 7, 4, 9]. Swaps: 2 <br>\n",
    "[7, 4] is not. Swap. List: [3, 4, 7, 9]. Swaps: 3. <br>\n",
    "[7, 9] is in order, move on. List: [3, 4, 7, 9]. Swaps: 3. <br>\n",
    "Check if list is sorted. It is. End. \n",
    "\n",
    "Sorting the list [3, 9, 7, 4] takes her 3 swaps. Write a function that takes in an unsorted list and returns the number of swaps it takes for the list to be sorted according to Mona's algorithm.\n",
    "\n",
    "Examples\n",
    "\n",
    "number_of_swaps([5, 4, 3]) ➞ 3\n",
    "\n",
    "number_of_swaps([1, 3, 4, 5]) ➞ 0\n",
    "\n",
    "number_of_swaps([5, 4, 3, 2]) ➞ 6"
   ]
  },
  {
   "cell_type": "code",
   "execution_count": 3,
   "metadata": {},
   "outputs": [],
   "source": [
    "def number_of_swaps(list1):\n",
    "    swap = 0\n",
    "    while list1 != sorted(list1):\n",
    "        for x in range(len(list1)-1):\n",
    "            if list1[x] > list1[x+1]:\n",
    "                list1[x], list1[x+1] = list1[x+1], list1[x]\n",
    "                swap += 1\n",
    "    return swap"
   ]
  },
  {
   "cell_type": "code",
   "execution_count": 4,
   "metadata": {},
   "outputs": [
    {
     "name": "stdout",
     "output_type": "stream",
     "text": [
      "3\n",
      "0\n",
      "6\n"
     ]
    }
   ],
   "source": [
    "print(number_of_swaps([5, 4, 3]))\n",
    "print(number_of_swaps([1, 3, 4, 5]))\n",
    "print(number_of_swaps([5, 4, 3, 2]))"
   ]
  }
 ],
 "metadata": {
  "kernelspec": {
   "display_name": "Python 3",
   "language": "python",
   "name": "python3"
  },
  "language_info": {
   "codemirror_mode": {
    "name": "ipython",
    "version": 3
   },
   "file_extension": ".py",
   "mimetype": "text/x-python",
   "name": "python",
   "nbconvert_exporter": "python",
   "pygments_lexer": "ipython3",
   "version": "3.8.3"
  }
 },
 "nbformat": 4,
 "nbformat_minor": 4
}
