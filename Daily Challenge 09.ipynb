{
 "cells": [
  {
   "cell_type": "markdown",
   "metadata": {},
   "source": [
    "### Python Daily Challenge 9"
   ]
  },
  {
   "cell_type": "markdown",
   "metadata": {},
   "source": [
    "Given a string, add or subtract numbers and return the answer.\n",
    "\n",
    "\n",
    "\n",
    "Example:\n",
    "\n",
    "Input: 1plus2plus3minus4\n",
    "\n",
    "Output: 2\n",
    "\n",
    "\n",
    "\n",
    "Input: 2minus6plus4plus7\n",
    "\n",
    "Output: 7"
   ]
  },
  {
   "cell_type": "code",
   "execution_count": 6,
   "metadata": {},
   "outputs": [],
   "source": [
    "def func(string):\n",
    "    string = string.replace(\"plus\", \"+\").replace(\"minus\", \"-\")\n",
    "\n",
    "    total = int(string[0])\n",
    "    for x in range(1, len(string), 2):\n",
    "        if string[x] == \"+\":\n",
    "            total += int(string[x+1])\n",
    "        else:\n",
    "            total -= int(string[x+1])\n",
    "    return total"
   ]
  },
  {
   "cell_type": "code",
   "execution_count": 7,
   "metadata": {},
   "outputs": [
    {
     "data": {
      "text/plain": [
       "2"
      ]
     },
     "execution_count": 7,
     "metadata": {},
     "output_type": "execute_result"
    }
   ],
   "source": [
    "func(\"1plus2plus3minus4\")"
   ]
  },
  {
   "cell_type": "code",
   "execution_count": 8,
   "metadata": {},
   "outputs": [
    {
     "data": {
      "text/plain": [
       "7"
      ]
     },
     "execution_count": 8,
     "metadata": {},
     "output_type": "execute_result"
    }
   ],
   "source": [
    "func(\"2minus6plus4plus7\")"
   ]
  }
 ],
 "metadata": {
  "kernelspec": {
   "display_name": "Python 3",
   "language": "python",
   "name": "python3"
  },
  "language_info": {
   "codemirror_mode": {
    "name": "ipython",
    "version": 3
   },
   "file_extension": ".py",
   "mimetype": "text/x-python",
   "name": "python",
   "nbconvert_exporter": "python",
   "pygments_lexer": "ipython3",
   "version": "3.8.3"
  }
 },
 "nbformat": 4,
 "nbformat_minor": 4
}
