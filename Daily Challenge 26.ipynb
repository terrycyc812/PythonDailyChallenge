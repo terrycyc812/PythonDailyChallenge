{
 "cells": [
  {
   "cell_type": "markdown",
   "metadata": {},
   "source": [
    "# Daily Challenge 26"
   ]
  },
  {
   "cell_type": "markdown",
   "metadata": {},
   "source": [
    "Create a function that takes a list and returns a new list containing only prime numbers.\n",
    "\n",
    "Examples\n",
    "\n",
    "filter_primes([7, 9, 3, 9, 10, 11, 27]) ➞ [7, 3, 11]\n",
    "\n",
    "filter_primes([10007, 1009, 1007, 27, 147, 77, 1001, 70]) ➞ [10007, 1009]\n",
    "\n",
    "filter_primes([1009, 10, 10, 10, 3, 33, 9, 4, 1, 61, 63, 69, 1087, 1091, 1093, 1097]) ➞ [1009, 3, 61, 1087, 1091, 1093, 1097]\n",
    "\n"
   ]
  },
  {
   "cell_type": "code",
   "execution_count": 5,
   "metadata": {},
   "outputs": [],
   "source": [
    "def filter_primes(list1):\n",
    "    def check_prime(num):\n",
    "        if num == 1:\n",
    "            prime = False\n",
    "        elif num == 2:\n",
    "            prime = True\n",
    "        else:\n",
    "            prime = True\n",
    "            max_check = int(num**0.5)\n",
    "            prime_list = [2]\n",
    "            for x in range(3, max_check+1):  \n",
    "                flag = False\n",
    "                for y in prime_list:  \n",
    "                    if x % y == 0:\n",
    "                        flag = True\n",
    "                        break\n",
    "                if not flag:\n",
    "                    prime_list.append(x)\n",
    "\n",
    "            for x in prime_list:\n",
    "                if num % x == 0:\n",
    "                    prime = False\n",
    "                    break\n",
    "        return prime\n",
    "    \n",
    "    result = []\n",
    "    for x in list1:\n",
    "        if check_prime(x):\n",
    "            result.append(x)\n",
    "    return result"
   ]
  },
  {
   "cell_type": "code",
   "execution_count": 6,
   "metadata": {},
   "outputs": [
    {
     "name": "stdout",
     "output_type": "stream",
     "text": [
      "[2, 3, 5, 7, 11, 13, 17, 19, 23, 29, 31, 37, 41, 43, 47, 53, 59, 61, 67, 71, 73, 79, 83, 89, 97]\n",
      "[7, 3, 11]\n",
      "[10007, 1009]\n",
      "[1009, 3, 61, 1087, 1091, 1093, 1097]\n"
     ]
    }
   ],
   "source": [
    "print(filter_primes(range(1,101)))\n",
    "print(filter_primes([7, 9, 3, 9, 10, 11, 27]))\n",
    "print(filter_primes([10007, 1009, 1007, 27, 147, 77, 1001, 70]))\n",
    "print(filter_primes([1009, 10, 10, 10, 3, 33, 9, 4, 1, 61, 63, 69, 1087, 1091, 1093, 1097]))"
   ]
  }
 ],
 "metadata": {
  "kernelspec": {
   "display_name": "Python 3",
   "language": "python",
   "name": "python3"
  },
  "language_info": {
   "codemirror_mode": {
    "name": "ipython",
    "version": 3
   },
   "file_extension": ".py",
   "mimetype": "text/x-python",
   "name": "python",
   "nbconvert_exporter": "python",
   "pygments_lexer": "ipython3",
   "version": "3.8.3"
  }
 },
 "nbformat": 4,
 "nbformat_minor": 2
}
